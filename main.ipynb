{
 "cells": [
  {
   "cell_type": "code",
   "execution_count": 1,
   "metadata": {},
   "outputs": [],
   "source": [
    "import pandas as pd \n",
    "import numpy as np \n",
    "import matplotlib.pyplot as plt"
   ]
  },
  {
   "cell_type": "code",
   "execution_count": 2,
   "metadata": {},
   "outputs": [],
   "source": [
    "data_train = pd.read_csv(\"DATASET/training_set_features.csv\")"
   ]
  },
  {
   "cell_type": "code",
   "execution_count": 3,
   "metadata": {},
   "outputs": [
    {
     "data": {
      "text/html": [
       "<div>\n",
       "<style scoped>\n",
       "    .dataframe tbody tr th:only-of-type {\n",
       "        vertical-align: middle;\n",
       "    }\n",
       "\n",
       "    .dataframe tbody tr th {\n",
       "        vertical-align: top;\n",
       "    }\n",
       "\n",
       "    .dataframe thead th {\n",
       "        text-align: right;\n",
       "    }\n",
       "</style>\n",
       "<table border=\"1\" class=\"dataframe\">\n",
       "  <thead>\n",
       "    <tr style=\"text-align: right;\">\n",
       "      <th></th>\n",
       "      <th>respondent_id</th>\n",
       "      <th>h1n1_concern</th>\n",
       "      <th>h1n1_knowledge</th>\n",
       "      <th>behavioral_antiviral_meds</th>\n",
       "      <th>behavioral_avoidance</th>\n",
       "      <th>behavioral_face_mask</th>\n",
       "      <th>behavioral_wash_hands</th>\n",
       "      <th>behavioral_large_gatherings</th>\n",
       "      <th>behavioral_outside_home</th>\n",
       "      <th>behavioral_touch_face</th>\n",
       "      <th>...</th>\n",
       "      <th>health_worker</th>\n",
       "      <th>health_insurance</th>\n",
       "      <th>opinion_h1n1_vacc_effective</th>\n",
       "      <th>opinion_h1n1_risk</th>\n",
       "      <th>opinion_h1n1_sick_from_vacc</th>\n",
       "      <th>opinion_seas_vacc_effective</th>\n",
       "      <th>opinion_seas_risk</th>\n",
       "      <th>opinion_seas_sick_from_vacc</th>\n",
       "      <th>household_adults</th>\n",
       "      <th>household_children</th>\n",
       "    </tr>\n",
       "  </thead>\n",
       "  <tbody>\n",
       "    <tr>\n",
       "      <th>count</th>\n",
       "      <td>26707.000000</td>\n",
       "      <td>26615.000000</td>\n",
       "      <td>26591.000000</td>\n",
       "      <td>26636.000000</td>\n",
       "      <td>26499.000000</td>\n",
       "      <td>26688.000000</td>\n",
       "      <td>26665.000000</td>\n",
       "      <td>26620.00000</td>\n",
       "      <td>26625.000000</td>\n",
       "      <td>26579.000000</td>\n",
       "      <td>...</td>\n",
       "      <td>25903.000000</td>\n",
       "      <td>14433.00000</td>\n",
       "      <td>26316.000000</td>\n",
       "      <td>26319.000000</td>\n",
       "      <td>26312.000000</td>\n",
       "      <td>26245.000000</td>\n",
       "      <td>26193.000000</td>\n",
       "      <td>26170.000000</td>\n",
       "      <td>26458.000000</td>\n",
       "      <td>26458.000000</td>\n",
       "    </tr>\n",
       "    <tr>\n",
       "      <th>mean</th>\n",
       "      <td>13353.000000</td>\n",
       "      <td>1.618486</td>\n",
       "      <td>1.262532</td>\n",
       "      <td>0.048844</td>\n",
       "      <td>0.725612</td>\n",
       "      <td>0.068982</td>\n",
       "      <td>0.825614</td>\n",
       "      <td>0.35864</td>\n",
       "      <td>0.337315</td>\n",
       "      <td>0.677264</td>\n",
       "      <td>...</td>\n",
       "      <td>0.111918</td>\n",
       "      <td>0.87972</td>\n",
       "      <td>3.850623</td>\n",
       "      <td>2.342566</td>\n",
       "      <td>2.357670</td>\n",
       "      <td>4.025986</td>\n",
       "      <td>2.719162</td>\n",
       "      <td>2.118112</td>\n",
       "      <td>0.886499</td>\n",
       "      <td>0.534583</td>\n",
       "    </tr>\n",
       "    <tr>\n",
       "      <th>std</th>\n",
       "      <td>7709.791156</td>\n",
       "      <td>0.910311</td>\n",
       "      <td>0.618149</td>\n",
       "      <td>0.215545</td>\n",
       "      <td>0.446214</td>\n",
       "      <td>0.253429</td>\n",
       "      <td>0.379448</td>\n",
       "      <td>0.47961</td>\n",
       "      <td>0.472802</td>\n",
       "      <td>0.467531</td>\n",
       "      <td>...</td>\n",
       "      <td>0.315271</td>\n",
       "      <td>0.32530</td>\n",
       "      <td>1.007436</td>\n",
       "      <td>1.285539</td>\n",
       "      <td>1.362766</td>\n",
       "      <td>1.086565</td>\n",
       "      <td>1.385055</td>\n",
       "      <td>1.332950</td>\n",
       "      <td>0.753422</td>\n",
       "      <td>0.928173</td>\n",
       "    </tr>\n",
       "    <tr>\n",
       "      <th>min</th>\n",
       "      <td>0.000000</td>\n",
       "      <td>0.000000</td>\n",
       "      <td>0.000000</td>\n",
       "      <td>0.000000</td>\n",
       "      <td>0.000000</td>\n",
       "      <td>0.000000</td>\n",
       "      <td>0.000000</td>\n",
       "      <td>0.00000</td>\n",
       "      <td>0.000000</td>\n",
       "      <td>0.000000</td>\n",
       "      <td>...</td>\n",
       "      <td>0.000000</td>\n",
       "      <td>0.00000</td>\n",
       "      <td>1.000000</td>\n",
       "      <td>1.000000</td>\n",
       "      <td>1.000000</td>\n",
       "      <td>1.000000</td>\n",
       "      <td>1.000000</td>\n",
       "      <td>1.000000</td>\n",
       "      <td>0.000000</td>\n",
       "      <td>0.000000</td>\n",
       "    </tr>\n",
       "    <tr>\n",
       "      <th>25%</th>\n",
       "      <td>6676.500000</td>\n",
       "      <td>1.000000</td>\n",
       "      <td>1.000000</td>\n",
       "      <td>0.000000</td>\n",
       "      <td>0.000000</td>\n",
       "      <td>0.000000</td>\n",
       "      <td>1.000000</td>\n",
       "      <td>0.00000</td>\n",
       "      <td>0.000000</td>\n",
       "      <td>0.000000</td>\n",
       "      <td>...</td>\n",
       "      <td>0.000000</td>\n",
       "      <td>1.00000</td>\n",
       "      <td>3.000000</td>\n",
       "      <td>1.000000</td>\n",
       "      <td>1.000000</td>\n",
       "      <td>4.000000</td>\n",
       "      <td>2.000000</td>\n",
       "      <td>1.000000</td>\n",
       "      <td>0.000000</td>\n",
       "      <td>0.000000</td>\n",
       "    </tr>\n",
       "    <tr>\n",
       "      <th>50%</th>\n",
       "      <td>13353.000000</td>\n",
       "      <td>2.000000</td>\n",
       "      <td>1.000000</td>\n",
       "      <td>0.000000</td>\n",
       "      <td>1.000000</td>\n",
       "      <td>0.000000</td>\n",
       "      <td>1.000000</td>\n",
       "      <td>0.00000</td>\n",
       "      <td>0.000000</td>\n",
       "      <td>1.000000</td>\n",
       "      <td>...</td>\n",
       "      <td>0.000000</td>\n",
       "      <td>1.00000</td>\n",
       "      <td>4.000000</td>\n",
       "      <td>2.000000</td>\n",
       "      <td>2.000000</td>\n",
       "      <td>4.000000</td>\n",
       "      <td>2.000000</td>\n",
       "      <td>2.000000</td>\n",
       "      <td>1.000000</td>\n",
       "      <td>0.000000</td>\n",
       "    </tr>\n",
       "    <tr>\n",
       "      <th>75%</th>\n",
       "      <td>20029.500000</td>\n",
       "      <td>2.000000</td>\n",
       "      <td>2.000000</td>\n",
       "      <td>0.000000</td>\n",
       "      <td>1.000000</td>\n",
       "      <td>0.000000</td>\n",
       "      <td>1.000000</td>\n",
       "      <td>1.00000</td>\n",
       "      <td>1.000000</td>\n",
       "      <td>1.000000</td>\n",
       "      <td>...</td>\n",
       "      <td>0.000000</td>\n",
       "      <td>1.00000</td>\n",
       "      <td>5.000000</td>\n",
       "      <td>4.000000</td>\n",
       "      <td>4.000000</td>\n",
       "      <td>5.000000</td>\n",
       "      <td>4.000000</td>\n",
       "      <td>4.000000</td>\n",
       "      <td>1.000000</td>\n",
       "      <td>1.000000</td>\n",
       "    </tr>\n",
       "    <tr>\n",
       "      <th>max</th>\n",
       "      <td>26706.000000</td>\n",
       "      <td>3.000000</td>\n",
       "      <td>2.000000</td>\n",
       "      <td>1.000000</td>\n",
       "      <td>1.000000</td>\n",
       "      <td>1.000000</td>\n",
       "      <td>1.000000</td>\n",
       "      <td>1.00000</td>\n",
       "      <td>1.000000</td>\n",
       "      <td>1.000000</td>\n",
       "      <td>...</td>\n",
       "      <td>1.000000</td>\n",
       "      <td>1.00000</td>\n",
       "      <td>5.000000</td>\n",
       "      <td>5.000000</td>\n",
       "      <td>5.000000</td>\n",
       "      <td>5.000000</td>\n",
       "      <td>5.000000</td>\n",
       "      <td>5.000000</td>\n",
       "      <td>3.000000</td>\n",
       "      <td>3.000000</td>\n",
       "    </tr>\n",
       "  </tbody>\n",
       "</table>\n",
       "<p>8 rows × 24 columns</p>\n",
       "</div>"
      ],
      "text/plain": [
       "       respondent_id  h1n1_concern  h1n1_knowledge  behavioral_antiviral_meds  \\\n",
       "count   26707.000000  26615.000000    26591.000000               26636.000000   \n",
       "mean    13353.000000      1.618486        1.262532                   0.048844   \n",
       "std      7709.791156      0.910311        0.618149                   0.215545   \n",
       "min         0.000000      0.000000        0.000000                   0.000000   \n",
       "25%      6676.500000      1.000000        1.000000                   0.000000   \n",
       "50%     13353.000000      2.000000        1.000000                   0.000000   \n",
       "75%     20029.500000      2.000000        2.000000                   0.000000   \n",
       "max     26706.000000      3.000000        2.000000                   1.000000   \n",
       "\n",
       "       behavioral_avoidance  behavioral_face_mask  behavioral_wash_hands  \\\n",
       "count          26499.000000          26688.000000           26665.000000   \n",
       "mean               0.725612              0.068982               0.825614   \n",
       "std                0.446214              0.253429               0.379448   \n",
       "min                0.000000              0.000000               0.000000   \n",
       "25%                0.000000              0.000000               1.000000   \n",
       "50%                1.000000              0.000000               1.000000   \n",
       "75%                1.000000              0.000000               1.000000   \n",
       "max                1.000000              1.000000               1.000000   \n",
       "\n",
       "       behavioral_large_gatherings  behavioral_outside_home  \\\n",
       "count                  26620.00000             26625.000000   \n",
       "mean                       0.35864                 0.337315   \n",
       "std                        0.47961                 0.472802   \n",
       "min                        0.00000                 0.000000   \n",
       "25%                        0.00000                 0.000000   \n",
       "50%                        0.00000                 0.000000   \n",
       "75%                        1.00000                 1.000000   \n",
       "max                        1.00000                 1.000000   \n",
       "\n",
       "       behavioral_touch_face  ...  health_worker  health_insurance  \\\n",
       "count           26579.000000  ...   25903.000000       14433.00000   \n",
       "mean                0.677264  ...       0.111918           0.87972   \n",
       "std                 0.467531  ...       0.315271           0.32530   \n",
       "min                 0.000000  ...       0.000000           0.00000   \n",
       "25%                 0.000000  ...       0.000000           1.00000   \n",
       "50%                 1.000000  ...       0.000000           1.00000   \n",
       "75%                 1.000000  ...       0.000000           1.00000   \n",
       "max                 1.000000  ...       1.000000           1.00000   \n",
       "\n",
       "       opinion_h1n1_vacc_effective  opinion_h1n1_risk  \\\n",
       "count                 26316.000000       26319.000000   \n",
       "mean                      3.850623           2.342566   \n",
       "std                       1.007436           1.285539   \n",
       "min                       1.000000           1.000000   \n",
       "25%                       3.000000           1.000000   \n",
       "50%                       4.000000           2.000000   \n",
       "75%                       5.000000           4.000000   \n",
       "max                       5.000000           5.000000   \n",
       "\n",
       "       opinion_h1n1_sick_from_vacc  opinion_seas_vacc_effective  \\\n",
       "count                 26312.000000                 26245.000000   \n",
       "mean                      2.357670                     4.025986   \n",
       "std                       1.362766                     1.086565   \n",
       "min                       1.000000                     1.000000   \n",
       "25%                       1.000000                     4.000000   \n",
       "50%                       2.000000                     4.000000   \n",
       "75%                       4.000000                     5.000000   \n",
       "max                       5.000000                     5.000000   \n",
       "\n",
       "       opinion_seas_risk  opinion_seas_sick_from_vacc  household_adults  \\\n",
       "count       26193.000000                 26170.000000      26458.000000   \n",
       "mean            2.719162                     2.118112          0.886499   \n",
       "std             1.385055                     1.332950          0.753422   \n",
       "min             1.000000                     1.000000          0.000000   \n",
       "25%             2.000000                     1.000000          0.000000   \n",
       "50%             2.000000                     2.000000          1.000000   \n",
       "75%             4.000000                     4.000000          1.000000   \n",
       "max             5.000000                     5.000000          3.000000   \n",
       "\n",
       "       household_children  \n",
       "count        26458.000000  \n",
       "mean             0.534583  \n",
       "std              0.928173  \n",
       "min              0.000000  \n",
       "25%              0.000000  \n",
       "50%              0.000000  \n",
       "75%              1.000000  \n",
       "max              3.000000  \n",
       "\n",
       "[8 rows x 24 columns]"
      ]
     },
     "execution_count": 3,
     "metadata": {},
     "output_type": "execute_result"
    }
   ],
   "source": [
    "data_train.describe()"
   ]
  },
  {
   "cell_type": "code",
   "execution_count": 4,
   "metadata": {},
   "outputs": [
    {
     "name": "stdout",
     "output_type": "stream",
     "text": [
      "<class 'pandas.core.frame.DataFrame'>\n",
      "RangeIndex: 26707 entries, 0 to 26706\n",
      "Data columns (total 36 columns):\n",
      " #   Column                       Non-Null Count  Dtype  \n",
      "---  ------                       --------------  -----  \n",
      " 0   respondent_id                26707 non-null  int64  \n",
      " 1   h1n1_concern                 26615 non-null  float64\n",
      " 2   h1n1_knowledge               26591 non-null  float64\n",
      " 3   behavioral_antiviral_meds    26636 non-null  float64\n",
      " 4   behavioral_avoidance         26499 non-null  float64\n",
      " 5   behavioral_face_mask         26688 non-null  float64\n",
      " 6   behavioral_wash_hands        26665 non-null  float64\n",
      " 7   behavioral_large_gatherings  26620 non-null  float64\n",
      " 8   behavioral_outside_home      26625 non-null  float64\n",
      " 9   behavioral_touch_face        26579 non-null  float64\n",
      " 10  doctor_recc_h1n1             24547 non-null  float64\n",
      " 11  doctor_recc_seasonal         24547 non-null  float64\n",
      " 12  chronic_med_condition        25736 non-null  float64\n",
      " 13  child_under_6_months         25887 non-null  float64\n",
      " 14  health_worker                25903 non-null  float64\n",
      " 15  health_insurance             14433 non-null  float64\n",
      " 16  opinion_h1n1_vacc_effective  26316 non-null  float64\n",
      " 17  opinion_h1n1_risk            26319 non-null  float64\n",
      " 18  opinion_h1n1_sick_from_vacc  26312 non-null  float64\n",
      " 19  opinion_seas_vacc_effective  26245 non-null  float64\n",
      " 20  opinion_seas_risk            26193 non-null  float64\n",
      " 21  opinion_seas_sick_from_vacc  26170 non-null  float64\n",
      " 22  age_group                    26707 non-null  object \n",
      " 23  education                    25300 non-null  object \n",
      " 24  race                         26707 non-null  object \n",
      " 25  sex                          26707 non-null  object \n",
      " 26  income_poverty               22284 non-null  object \n",
      " 27  marital_status               25299 non-null  object \n",
      " 28  rent_or_own                  24665 non-null  object \n",
      " 29  employment_status            25244 non-null  object \n",
      " 30  hhs_geo_region               26707 non-null  object \n",
      " 31  census_msa                   26707 non-null  object \n",
      " 32  household_adults             26458 non-null  float64\n",
      " 33  household_children           26458 non-null  float64\n",
      " 34  employment_industry          13377 non-null  object \n",
      " 35  employment_occupation        13237 non-null  object \n",
      "dtypes: float64(23), int64(1), object(12)\n",
      "memory usage: 7.3+ MB\n"
     ]
    }
   ],
   "source": [
    "data_train.info()"
   ]
  },
  {
   "cell_type": "markdown",
   "metadata": {},
   "source": [
    "<h1> Preprocessing and Cleaning Data </h1>"
   ]
  },
  {
   "cell_type": "code",
   "execution_count": 5,
   "metadata": {},
   "outputs": [
    {
     "data": {
      "text/plain": [
       "Index(['respondent_id', 'h1n1_concern', 'h1n1_knowledge',\n",
       "       'behavioral_antiviral_meds', 'behavioral_avoidance',\n",
       "       'behavioral_face_mask', 'behavioral_wash_hands',\n",
       "       'behavioral_large_gatherings', 'behavioral_outside_home',\n",
       "       'behavioral_touch_face', 'doctor_recc_h1n1', 'doctor_recc_seasonal',\n",
       "       'chronic_med_condition', 'child_under_6_months', 'health_worker',\n",
       "       'health_insurance', 'opinion_h1n1_vacc_effective', 'opinion_h1n1_risk',\n",
       "       'opinion_h1n1_sick_from_vacc', 'opinion_seas_vacc_effective',\n",
       "       'opinion_seas_risk', 'opinion_seas_sick_from_vacc', 'age_group',\n",
       "       'education', 'race', 'sex', 'income_poverty', 'marital_status',\n",
       "       'rent_or_own', 'employment_status', 'hhs_geo_region', 'census_msa',\n",
       "       'household_adults', 'household_children', 'employment_industry',\n",
       "       'employment_occupation'],\n",
       "      dtype='object')"
      ]
     },
     "execution_count": 5,
     "metadata": {},
     "output_type": "execute_result"
    }
   ],
   "source": [
    "data_train.columns"
   ]
  },
  {
   "cell_type": "code",
   "execution_count": 6,
   "metadata": {},
   "outputs": [
    {
     "data": {
      "text/plain": [
       "array([ 1.,  3.,  2.,  0., nan])"
      ]
     },
     "execution_count": 6,
     "metadata": {},
     "output_type": "execute_result"
    }
   ],
   "source": [
    "data_train['h1n1_concern'].unique()  # how concerned the person is."
   ]
  },
  {
   "cell_type": "code",
   "execution_count": 7,
   "metadata": {},
   "outputs": [
    {
     "name": "stdout",
     "output_type": "stream",
     "text": [
      "<class 'pandas.core.series.Series'>\n",
      "RangeIndex: 26707 entries, 0 to 26706\n",
      "Series name: h1n1_concern\n",
      "Non-Null Count  Dtype  \n",
      "--------------  -----  \n",
      "26615 non-null  float64\n",
      "dtypes: float64(1)\n",
      "memory usage: 208.8 KB\n"
     ]
    }
   ],
   "source": [
    "data_train['h1n1_concern'].info()"
   ]
  },
  {
   "cell_type": "code",
   "execution_count": 8,
   "metadata": {},
   "outputs": [
    {
     "data": {
      "text/plain": [
       "array([ 0.,  2.,  1., nan])"
      ]
     },
     "execution_count": 8,
     "metadata": {},
     "output_type": "execute_result"
    }
   ],
   "source": [
    "data_train['h1n1_knowledge'].unique()  # how much knowledge does the person have about h1n1"
   ]
  },
  {
   "cell_type": "code",
   "execution_count": 9,
   "metadata": {},
   "outputs": [
    {
     "data": {
      "text/plain": [
       "False    26591\n",
       "True       116\n",
       "Name: h1n1_knowledge, dtype: int64"
      ]
     },
     "execution_count": 9,
     "metadata": {},
     "output_type": "execute_result"
    }
   ],
   "source": [
    "data_train['h1n1_knowledge'].isna().value_counts()"
   ]
  },
  {
   "cell_type": "code",
   "execution_count": 10,
   "metadata": {},
   "outputs": [
    {
     "data": {
      "text/plain": [
       "array([ 0.,  1., nan])"
      ]
     },
     "execution_count": 10,
     "metadata": {},
     "output_type": "execute_result"
    }
   ],
   "source": [
    "data_train['behavioral_antiviral_meds'].unique()  # has taken any antiviral medication \n"
   ]
  },
  {
   "cell_type": "code",
   "execution_count": 11,
   "metadata": {},
   "outputs": [
    {
     "data": {
      "text/plain": [
       "False    26636\n",
       "True        71\n",
       "Name: behavioral_antiviral_meds, dtype: int64"
      ]
     },
     "execution_count": 11,
     "metadata": {},
     "output_type": "execute_result"
    }
   ],
   "source": [
    "data_train['behavioral_antiviral_meds'].isna().value_counts()  # instead of deleting the null , lets fill it up with some other value"
   ]
  },
  {
   "cell_type": "code",
   "execution_count": 12,
   "metadata": {},
   "outputs": [
    {
     "data": {
      "text/plain": [
       "array([ 0.,  1., nan])"
      ]
     },
     "execution_count": 12,
     "metadata": {},
     "output_type": "execute_result"
    }
   ],
   "source": [
    "data_train['behavioral_avoidance'].unique() # has avoided any close contact with affected people"
   ]
  },
  {
   "cell_type": "code",
   "execution_count": 13,
   "metadata": {},
   "outputs": [
    {
     "data": {
      "text/plain": [
       "False    26636\n",
       "True        71\n",
       "Name: behavioral_antiviral_meds, dtype: int64"
      ]
     },
     "execution_count": 13,
     "metadata": {},
     "output_type": "execute_result"
    }
   ],
   "source": [
    "data_train['behavioral_antiviral_meds'].isna().value_counts()"
   ]
  },
  {
   "cell_type": "code",
   "execution_count": 14,
   "metadata": {},
   "outputs": [
    {
     "data": {
      "text/plain": [
       "False    26688\n",
       "True        19\n",
       "Name: behavioral_face_mask, dtype: int64"
      ]
     },
     "execution_count": 14,
     "metadata": {},
     "output_type": "execute_result"
    }
   ],
   "source": [
    "data_train['behavioral_face_mask'].isna().value_counts()  # has bought a face mask"
   ]
  },
  {
   "cell_type": "code",
   "execution_count": 15,
   "metadata": {},
   "outputs": [
    {
     "data": {
      "text/plain": [
       "False    26665\n",
       "True        42\n",
       "Name: behavioral_wash_hands, dtype: int64"
      ]
     },
     "execution_count": 15,
     "metadata": {},
     "output_type": "execute_result"
    }
   ],
   "source": [
    "data_train['behavioral_wash_hands'].isna().value_counts()   # wash hands"
   ]
  },
  {
   "cell_type": "code",
   "execution_count": 16,
   "metadata": {},
   "outputs": [
    {
     "data": {
      "text/plain": [
       "False    26620\n",
       "True        87\n",
       "Name: behavioral_large_gatherings, dtype: int64"
      ]
     },
     "execution_count": 16,
     "metadata": {},
     "output_type": "execute_result"
    }
   ],
   "source": [
    "data_train['behavioral_large_gatherings'].isna().value_counts()  # has reduced time in large gathering"
   ]
  },
  {
   "cell_type": "code",
   "execution_count": 17,
   "metadata": {},
   "outputs": [
    {
     "data": {
      "text/plain": [
       "False    26625\n",
       "True        82\n",
       "Name: behavioral_outside_home, dtype: int64"
      ]
     },
     "execution_count": 17,
     "metadata": {},
     "output_type": "execute_result"
    }
   ],
   "source": [
    "data_train['behavioral_outside_home'].isna().value_counts() # has reduced contact with the people outside the home"
   ]
  },
  {
   "cell_type": "code",
   "execution_count": 18,
   "metadata": {},
   "outputs": [
    {
     "data": {
      "text/plain": [
       "False    26579\n",
       "True       128\n",
       "Name: behavioral_touch_face, dtype: int64"
      ]
     },
     "execution_count": 18,
     "metadata": {},
     "output_type": "execute_result"
    }
   ],
   "source": [
    "data_train['behavioral_touch_face'].isna().value_counts()  # has avoided tuching mouth"
   ]
  },
  {
   "cell_type": "code",
   "execution_count": 19,
   "metadata": {},
   "outputs": [
    {
     "data": {
      "text/plain": [
       "False    24547\n",
       "True      2160\n",
       "Name: doctor_recc_h1n1, dtype: int64"
      ]
     },
     "execution_count": 19,
     "metadata": {},
     "output_type": "execute_result"
    }
   ],
   "source": [
    "data_train['doctor_recc_h1n1'].isna().value_counts()  # was h1n1 vaccine reccomended by doctor\n",
    "# this column can be dropped"
   ]
  },
  {
   "cell_type": "code",
   "execution_count": 20,
   "metadata": {},
   "outputs": [
    {
     "data": {
      "text/plain": [
       "0.0    16453\n",
       "1.0     8094\n",
       "Name: doctor_recc_seasonal, dtype: int64"
      ]
     },
     "execution_count": 20,
     "metadata": {},
     "output_type": "execute_result"
    }
   ],
   "source": [
    "data_train['doctor_recc_seasonal'].value_counts()  # was seasonal flu vaccine recommended by doctor\n",
    "# can be dropped"
   ]
  },
  {
   "cell_type": "code",
   "execution_count": 21,
   "metadata": {},
   "outputs": [
    {
     "data": {
      "text/plain": [
       "array([ 0.,  1., nan])"
      ]
     },
     "execution_count": 21,
     "metadata": {},
     "output_type": "execute_result"
    }
   ],
   "source": [
    "data_train['chronic_med_condition'].unique()  # has any chronic condition?"
   ]
  },
  {
   "cell_type": "code",
   "execution_count": 22,
   "metadata": {},
   "outputs": [
    {
     "data": {
      "text/plain": [
       "False    25887\n",
       "True       820\n",
       "Name: child_under_6_months, dtype: int64"
      ]
     },
     "execution_count": 22,
     "metadata": {},
     "output_type": "execute_result"
    }
   ],
   "source": [
    "data_train['child_under_6_months'].isna().value_counts()  # has regular contact with child under  age of 6 months\n",
    "\n",
    "# irrelevant"
   ]
  },
  {
   "cell_type": "code",
   "execution_count": 23,
   "metadata": {},
   "outputs": [
    {
     "data": {
      "text/plain": [
       "False    26316\n",
       "True       391\n",
       "Name: opinion_h1n1_vacc_effective, dtype: int64"
      ]
     },
     "execution_count": 23,
     "metadata": {},
     "output_type": "execute_result"
    }
   ],
   "source": [
    "data_train['opinion_h1n1_vacc_effective'].isna().value_counts()\n",
    "# irrelevant "
   ]
  },
  {
   "cell_type": "code",
   "execution_count": 24,
   "metadata": {},
   "outputs": [
    {
     "data": {
      "text/plain": [
       "False    26319\n",
       "True       388\n",
       "Name: opinion_h1n1_risk, dtype: int64"
      ]
     },
     "execution_count": 24,
     "metadata": {},
     "output_type": "execute_result"
    }
   ],
   "source": [
    "data_train['opinion_h1n1_risk'].isna().value_counts()\n",
    "\n",
    "# drop all opinion columns"
   ]
  },
  {
   "cell_type": "code",
   "execution_count": 25,
   "metadata": {},
   "outputs": [],
   "source": [
    "alfa_1 = dict(zip(['55 - 64 Years', '35 - 44 Years', '18 - 34 Years', '65+ Years','45 - 54 Years'],[0,1,2,3,4]))"
   ]
  },
  {
   "cell_type": "code",
   "execution_count": 26,
   "metadata": {},
   "outputs": [
    {
     "data": {
      "text/plain": [
       "{'55 - 64 Years': 0,\n",
       " '35 - 44 Years': 1,\n",
       " '18 - 34 Years': 2,\n",
       " '65+ Years': 3,\n",
       " '45 - 54 Years': 4}"
      ]
     },
     "execution_count": 26,
     "metadata": {},
     "output_type": "execute_result"
    }
   ],
   "source": [
    "alfa_1"
   ]
  },
  {
   "cell_type": "code",
   "execution_count": 27,
   "metadata": {},
   "outputs": [],
   "source": [
    "data_train['age_group'].replace(alfa_1,inplace=True)"
   ]
  },
  {
   "cell_type": "code",
   "execution_count": 28,
   "metadata": {},
   "outputs": [
    {
     "data": {
      "text/plain": [
       "False    25300\n",
       "True      1407\n",
       "Name: education, dtype: int64"
      ]
     },
     "execution_count": 28,
     "metadata": {},
     "output_type": "execute_result"
    }
   ],
   "source": [
    "data_train['education'].isna().value_counts()"
   ]
  },
  {
   "cell_type": "code",
   "execution_count": 29,
   "metadata": {},
   "outputs": [
    {
     "data": {
      "text/plain": [
       "{'White': 0, 'Black': 1, 'Other or Multiple': 2, 'Hispanic': 3}"
      ]
     },
     "execution_count": 29,
     "metadata": {},
     "output_type": "execute_result"
    }
   ],
   "source": [
    "alfa = dict(zip(['White', 'Black', 'Other or Multiple', 'Hispanic'],[0,1,2,3]))\n",
    "alfa"
   ]
  },
  {
   "cell_type": "code",
   "execution_count": 30,
   "metadata": {},
   "outputs": [],
   "source": [
    "data_train['race'].replace(alfa, inplace = True)"
   ]
  },
  {
   "cell_type": "code",
   "execution_count": 31,
   "metadata": {},
   "outputs": [
    {
     "data": {
      "text/html": [
       "<div>\n",
       "<style scoped>\n",
       "    .dataframe tbody tr th:only-of-type {\n",
       "        vertical-align: middle;\n",
       "    }\n",
       "\n",
       "    .dataframe tbody tr th {\n",
       "        vertical-align: top;\n",
       "    }\n",
       "\n",
       "    .dataframe thead th {\n",
       "        text-align: right;\n",
       "    }\n",
       "</style>\n",
       "<table border=\"1\" class=\"dataframe\">\n",
       "  <thead>\n",
       "    <tr style=\"text-align: right;\">\n",
       "      <th></th>\n",
       "      <th>respondent_id</th>\n",
       "      <th>h1n1_vaccine</th>\n",
       "      <th>seasonal_vaccine</th>\n",
       "    </tr>\n",
       "  </thead>\n",
       "  <tbody>\n",
       "    <tr>\n",
       "      <th>0</th>\n",
       "      <td>0</td>\n",
       "      <td>0</td>\n",
       "      <td>0</td>\n",
       "    </tr>\n",
       "    <tr>\n",
       "      <th>1</th>\n",
       "      <td>1</td>\n",
       "      <td>0</td>\n",
       "      <td>1</td>\n",
       "    </tr>\n",
       "    <tr>\n",
       "      <th>2</th>\n",
       "      <td>2</td>\n",
       "      <td>0</td>\n",
       "      <td>0</td>\n",
       "    </tr>\n",
       "    <tr>\n",
       "      <th>3</th>\n",
       "      <td>3</td>\n",
       "      <td>0</td>\n",
       "      <td>1</td>\n",
       "    </tr>\n",
       "    <tr>\n",
       "      <th>4</th>\n",
       "      <td>4</td>\n",
       "      <td>0</td>\n",
       "      <td>0</td>\n",
       "    </tr>\n",
       "    <tr>\n",
       "      <th>...</th>\n",
       "      <td>...</td>\n",
       "      <td>...</td>\n",
       "      <td>...</td>\n",
       "    </tr>\n",
       "    <tr>\n",
       "      <th>26702</th>\n",
       "      <td>26702</td>\n",
       "      <td>0</td>\n",
       "      <td>0</td>\n",
       "    </tr>\n",
       "    <tr>\n",
       "      <th>26703</th>\n",
       "      <td>26703</td>\n",
       "      <td>0</td>\n",
       "      <td>0</td>\n",
       "    </tr>\n",
       "    <tr>\n",
       "      <th>26704</th>\n",
       "      <td>26704</td>\n",
       "      <td>0</td>\n",
       "      <td>1</td>\n",
       "    </tr>\n",
       "    <tr>\n",
       "      <th>26705</th>\n",
       "      <td>26705</td>\n",
       "      <td>0</td>\n",
       "      <td>0</td>\n",
       "    </tr>\n",
       "    <tr>\n",
       "      <th>26706</th>\n",
       "      <td>26706</td>\n",
       "      <td>0</td>\n",
       "      <td>0</td>\n",
       "    </tr>\n",
       "  </tbody>\n",
       "</table>\n",
       "<p>26707 rows × 3 columns</p>\n",
       "</div>"
      ],
      "text/plain": [
       "       respondent_id  h1n1_vaccine  seasonal_vaccine\n",
       "0                  0             0                 0\n",
       "1                  1             0                 1\n",
       "2                  2             0                 0\n",
       "3                  3             0                 1\n",
       "4                  4             0                 0\n",
       "...              ...           ...               ...\n",
       "26702          26702             0                 0\n",
       "26703          26703             0                 0\n",
       "26704          26704             0                 1\n",
       "26705          26705             0                 0\n",
       "26706          26706             0                 0\n",
       "\n",
       "[26707 rows x 3 columns]"
      ]
     },
     "execution_count": 31,
     "metadata": {},
     "output_type": "execute_result"
    }
   ],
   "source": [
    "# target data\n",
    "data_2 = pd.read_csv(\"DATASET/training_set_labels.csv\")\n",
    "data_2"
   ]
  },
  {
   "cell_type": "code",
   "execution_count": 32,
   "metadata": {},
   "outputs": [],
   "source": [
    "merged_frames = pd.merge(data_train, data_2,on = 'respondent_id')"
   ]
  },
  {
   "cell_type": "code",
   "execution_count": 33,
   "metadata": {},
   "outputs": [
    {
     "data": {
      "text/plain": [
       "False    14433\n",
       "True     12274\n",
       "Name: health_insurance, dtype: int64"
      ]
     },
     "execution_count": 33,
     "metadata": {},
     "output_type": "execute_result"
    }
   ],
   "source": [
    "merged_frames['health_insurance'].isna().value_counts()"
   ]
  },
  {
   "cell_type": "code",
   "execution_count": 34,
   "metadata": {},
   "outputs": [],
   "source": [
    "alfa_3 = dict(zip(['12 Years', 'College Graduate', 'Some College', '< 12 Years'],[0,1,2,3]))"
   ]
  },
  {
   "cell_type": "code",
   "execution_count": 35,
   "metadata": {},
   "outputs": [],
   "source": [
    "merged_frames['education'].replace(alfa_3, inplace = True)"
   ]
  },
  {
   "cell_type": "code",
   "execution_count": 36,
   "metadata": {},
   "outputs": [],
   "source": [
    "merged_frames['sex'].replace({'Male':1, 'Female':0},inplace=True)"
   ]
  },
  {
   "cell_type": "code",
   "execution_count": 37,
   "metadata": {},
   "outputs": [
    {
     "data": {
      "text/plain": [
       "Index(['respondent_id', 'h1n1_concern', 'h1n1_knowledge',\n",
       "       'behavioral_antiviral_meds', 'behavioral_avoidance',\n",
       "       'behavioral_face_mask', 'behavioral_wash_hands',\n",
       "       'behavioral_large_gatherings', 'behavioral_outside_home',\n",
       "       'behavioral_touch_face', 'doctor_recc_h1n1', 'doctor_recc_seasonal',\n",
       "       'chronic_med_condition', 'child_under_6_months', 'health_worker',\n",
       "       'health_insurance', 'opinion_h1n1_vacc_effective', 'opinion_h1n1_risk',\n",
       "       'opinion_h1n1_sick_from_vacc', 'opinion_seas_vacc_effective',\n",
       "       'opinion_seas_risk', 'opinion_seas_sick_from_vacc', 'age_group',\n",
       "       'education', 'race', 'sex', 'income_poverty', 'marital_status',\n",
       "       'rent_or_own', 'employment_status', 'hhs_geo_region', 'census_msa',\n",
       "       'household_adults', 'household_children', 'employment_industry',\n",
       "       'employment_occupation', 'h1n1_vaccine', 'seasonal_vaccine'],\n",
       "      dtype='object')"
      ]
     },
     "execution_count": 37,
     "metadata": {},
     "output_type": "execute_result"
    }
   ],
   "source": [
    "merged_frames.columns"
   ]
  },
  {
   "cell_type": "code",
   "execution_count": 38,
   "metadata": {},
   "outputs": [],
   "source": [
    "# dropping tables\n",
    "merged_frames.drop(['doctor_recc_h1n1','doctor_recc_seasonal','health_insurance', 'opinion_h1n1_vacc_effective', 'opinion_h1n1_risk',\n",
    "       'opinion_h1n1_sick_from_vacc', 'opinion_seas_vacc_effective',\n",
    "       'opinion_seas_risk', 'opinion_seas_sick_from_vacc','employment_status'],axis = 1, inplace=True)"
   ]
  },
  {
   "cell_type": "code",
   "execution_count": 39,
   "metadata": {},
   "outputs": [
    {
     "name": "stdout",
     "output_type": "stream",
     "text": [
      "[0, 1, 2, 3, 4, 5, 6, 7, 8, 9, 10, 11, 12, 13, 14, 15, 16, 17, 18, 19, 20]\n"
     ]
    }
   ],
   "source": [
    "print([i for i in range(21)])"
   ]
  },
  {
   "cell_type": "code",
   "execution_count": 40,
   "metadata": {},
   "outputs": [],
   "source": [
    "merged_frames['employment_industry'].replace(dict(zip(['pxcmvdjn', 'rucpziij', 'wxleyezf', 'saaquncn', 'xicduogh',\n",
    "       'ldnlellj', 'wlfvacwt', 'nduyfdeo', 'fcxhlnwr', 'vjjrobsf',\n",
    "       'arjwrbjb', 'msuufmds', 'xqicxuve', 'phxvnwax', 'dotnnunm',\n",
    "       'cfqqtusy', 'mcubkhph', 'mfikgejo', 'atmlpfrs', 'haxffmxo',\n",
    "       'qnlwzans'],[i for i in range(21)])), inplace = True)"
   ]
  },
  {
   "cell_type": "code",
   "execution_count": 41,
   "metadata": {},
   "outputs": [],
   "source": [
    "merged_frames['employment_occupation'].replace(dict(zip(['xgwztkwe', 'xtkaffoo', 'emcorrxb', 'vlluhbov', 'xqwwgdyp',\n",
    "       'ccgxvspp', 'qxajmpny', 'kldqjyjy', 'mxkfnird', 'bxpfxfdn',\n",
    "       'ukymxvdu', 'cmhcxjea', 'haliazsg', 'dlvbwzss', 'hfxkjkmi',\n",
    "       'oijqvulv', 'rcertsgn', 'tfqavkke', 'uqqtjvyb', 'pvmttkik',\n",
    "       'xzmlyyjv', 'dcjcmpih', 'hodpvpew'], [i for i in range(23)])), inplace=True)"
   ]
  },
  {
   "cell_type": "code",
   "execution_count": 42,
   "metadata": {},
   "outputs": [
    {
     "data": {
      "text/plain": [
       "(26707, 28)"
      ]
     },
     "execution_count": 42,
     "metadata": {},
     "output_type": "execute_result"
    }
   ],
   "source": [
    "merged_frames.shape"
   ]
  },
  {
   "cell_type": "code",
   "execution_count": 43,
   "metadata": {},
   "outputs": [
    {
     "data": {
      "text/plain": [
       "(11667, 28)"
      ]
     },
     "execution_count": 43,
     "metadata": {},
     "output_type": "execute_result"
    }
   ],
   "source": [
    "merged_frames.dropna(inplace=True)\n",
    "merged_frames.shape"
   ]
  },
  {
   "cell_type": "code",
   "execution_count": 44,
   "metadata": {},
   "outputs": [],
   "source": [
    "alfa_4 = dict(zip(['Below Poverty', '<= $75,000, Above Poverty', '> $75,000'],[0,1,2]))"
   ]
  },
  {
   "cell_type": "code",
   "execution_count": 45,
   "metadata": {},
   "outputs": [],
   "source": [
    "merged_frames['marital_status'].replace(dict(zip(['Not Married', 'Married'],[0,1])),inplace=True)"
   ]
  },
  {
   "cell_type": "code",
   "execution_count": 46,
   "metadata": {},
   "outputs": [],
   "source": [
    "merged_frames['rent_or_own'].replace(dict(zip(['Rent', 'Own'],[0,1])),inplace = True)"
   ]
  },
  {
   "cell_type": "code",
   "execution_count": 47,
   "metadata": {},
   "outputs": [],
   "source": [
    "merged_frames['hhs_geo_region'].replace(dict(zip(['bhuqouqj', 'qufhixun', 'atmpeygn', 'lzgpxyit', 'oxchjgsf',\n",
    "       'fpwskwrf', 'mlyzmhmf', 'dqpwygqj', 'lrircsnp', 'kbazzjca'],[0,1,2,3,4,5,6,7,8,9])), inplace = True)"
   ]
  },
  {
   "cell_type": "code",
   "execution_count": 48,
   "metadata": {},
   "outputs": [],
   "source": [
    "merged_frames['census_msa'].replace(dict(zip(['MSA, Not Principle  City', 'MSA, Principle City', 'Non-MSA'],[0,1,2])),inplace = True)"
   ]
  },
  {
   "cell_type": "code",
   "execution_count": 49,
   "metadata": {},
   "outputs": [],
   "source": [
    "merged_frames['income_poverty'].replace(alfa_4, inplace = True)"
   ]
  },
  {
   "cell_type": "code",
   "execution_count": 50,
   "metadata": {},
   "outputs": [
    {
     "name": "stdout",
     "output_type": "stream",
     "text": [
      "<class 'pandas.core.frame.DataFrame'>\n",
      "Int64Index: 11667 entries, 1 to 26703\n",
      "Data columns (total 28 columns):\n",
      " #   Column                       Non-Null Count  Dtype  \n",
      "---  ------                       --------------  -----  \n",
      " 0   respondent_id                11667 non-null  int64  \n",
      " 1   h1n1_concern                 11667 non-null  float64\n",
      " 2   h1n1_knowledge               11667 non-null  float64\n",
      " 3   behavioral_antiviral_meds    11667 non-null  float64\n",
      " 4   behavioral_avoidance         11667 non-null  float64\n",
      " 5   behavioral_face_mask         11667 non-null  float64\n",
      " 6   behavioral_wash_hands        11667 non-null  float64\n",
      " 7   behavioral_large_gatherings  11667 non-null  float64\n",
      " 8   behavioral_outside_home      11667 non-null  float64\n",
      " 9   behavioral_touch_face        11667 non-null  float64\n",
      " 10  chronic_med_condition        11667 non-null  float64\n",
      " 11  child_under_6_months         11667 non-null  float64\n",
      " 12  health_worker                11667 non-null  float64\n",
      " 13  age_group                    11667 non-null  int64  \n",
      " 14  education                    11667 non-null  float64\n",
      " 15  race                         11667 non-null  int64  \n",
      " 16  sex                          11667 non-null  int64  \n",
      " 17  income_poverty               11667 non-null  int64  \n",
      " 18  marital_status               11667 non-null  int64  \n",
      " 19  rent_or_own                  11667 non-null  int64  \n",
      " 20  hhs_geo_region               11667 non-null  int64  \n",
      " 21  census_msa                   11667 non-null  int64  \n",
      " 22  household_adults             11667 non-null  float64\n",
      " 23  household_children           11667 non-null  float64\n",
      " 24  employment_industry          11667 non-null  float64\n",
      " 25  employment_occupation        11667 non-null  float64\n",
      " 26  h1n1_vaccine                 11667 non-null  int64  \n",
      " 27  seasonal_vaccine             11667 non-null  int64  \n",
      "dtypes: float64(17), int64(11)\n",
      "memory usage: 2.6 MB\n"
     ]
    }
   ],
   "source": [
    "merged_frames.info()"
   ]
  },
  {
   "cell_type": "markdown",
   "metadata": {},
   "source": [
    "<h1 style=\"color: Yellow; font-size: 32px; text-align: center; font-family: Arial, sans-serif;\">\n",
    "    Visulization\n",
    "</h1>\n"
   ]
  },
  {
   "cell_type": "code",
   "execution_count": 51,
   "metadata": {},
   "outputs": [
    {
     "name": "stderr",
     "output_type": "stream",
     "text": [
      "c:\\Users\\hp\\anaconda3\\envs\\data_science\\lib\\site-packages\\scipy\\__init__.py:146: UserWarning: A NumPy version >=1.16.5 and <1.23.0 is required for this version of SciPy (detected version 1.23.5\n",
      "  warnings.warn(f\"A NumPy version >={np_minversion} and <{np_maxversion}\"\n"
     ]
    }
   ],
   "source": [
    "import seaborn as sns\n",
    "import matplotlib.pyplot as plt"
   ]
  },
  {
   "cell_type": "code",
   "execution_count": 52,
   "metadata": {},
   "outputs": [
    {
     "data": {
      "text/plain": [
       "[<matplotlib.axis.XTick at 0x242517c64a0>,\n",
       " <matplotlib.axis.XTick at 0x242517c6470>,\n",
       " <matplotlib.axis.XTick at 0x242517c60b0>,\n",
       " <matplotlib.axis.XTick at 0x242517fba90>]"
      ]
     },
     "execution_count": 52,
     "metadata": {},
     "output_type": "execute_result"
    },
    {
     "data": {
      "image/png": "[encoded data removed]",
      "text/plain": [
       "<Figure size 640x480 with 1 Axes>"
      ]
     },
     "metadata": {},
     "output_type": "display_data"
    }
   ],
   "source": [
    "#merged_frames['h1n1_concern'].value_counts()\n",
    "alfa = sns.barplot(x = merged_frames['h1n1_concern'].unique(),y = merged_frames['h1n1_concern'].value_counts())\n",
    "alfa.set_xticks([0,1,2,3], labels= [\"Not at all concerned\", \"Not very concerned\", \"Somewhat concerned\", \"Very concerned\"],rotation = 45)\n"
   ]
  },
  {
   "cell_type": "code",
   "execution_count": 53,
   "metadata": {},
   "outputs": [
    {
     "data": {
      "text/plain": [
       "Text(0.5, 1.0, 'knowledge about h1n1')"
      ]
     },
     "execution_count": 53,
     "metadata": {},
     "output_type": "execute_result"
    },
    {
     "data": {
      "image/png": "[encoded data removed]",
      "text/plain": [
       "<Figure size 640x480 with 1 Axes>"
      ]
     },
     "metadata": {},
     "output_type": "display_data"
    }
   ],
   "source": [
    "alfa = sns.barplot(x = merged_frames['h1n1_knowledge'].unique(),y = merged_frames['h1n1_knowledge'].value_counts())\n",
    "alfa.set_xticks([0,1,2],labels=[\"No knowledge\", \"A little knowledge\", \"A lot of knowledge\"])\n",
    "alfa.set_title('knowledge about h1n1')"
   ]
  },
  {
   "cell_type": "code",
   "execution_count": 54,
   "metadata": {},
   "outputs": [
    {
     "data": {
      "text/plain": [
       "Index(['respondent_id', 'h1n1_concern', 'h1n1_knowledge',\n",
       "       'behavioral_antiviral_meds', 'behavioral_avoidance',\n",
       "       'behavioral_face_mask', 'behavioral_wash_hands',\n",
       "       'behavioral_large_gatherings', 'behavioral_outside_home',\n",
       "       'behavioral_touch_face', 'chronic_med_condition',\n",
       "       'child_under_6_months', 'health_worker', 'age_group', 'education',\n",
       "       'race', 'sex', 'income_poverty', 'marital_status', 'rent_or_own',\n",
       "       'hhs_geo_region', 'census_msa', 'household_adults',\n",
       "       'household_children', 'employment_industry', 'employment_occupation',\n",
       "       'h1n1_vaccine', 'seasonal_vaccine'],\n",
       "      dtype='object')"
      ]
     },
     "execution_count": 54,
     "metadata": {},
     "output_type": "execute_result"
    }
   ],
   "source": [
    "merged_frames.columns"
   ]
  },
  {
   "cell_type": "code",
   "execution_count": 55,
   "metadata": {},
   "outputs": [
    {
     "data": {
      "text/plain": [
       "Text(0.5, 1.0, 'taken any anti-viral')"
      ]
     },
     "execution_count": 55,
     "metadata": {},
     "output_type": "execute_result"
    },
    {
     "data": {
      "image/png": "[encoded data removed]",
      "text/plain": [
       "<Figure size 640x480 with 1 Axes>"
      ]
     },
     "metadata": {},
     "output_type": "display_data"
    }
   ],
   "source": [
    "alfa = sns.barplot(x = merged_frames['behavioral_antiviral_meds'].unique(),y = merged_frames['behavioral_antiviral_meds'].value_counts())\n",
    "alfa.set_xticks([0,1],labels=[\"not taken\", \"taken\"])\n",
    "alfa.set_title(\"taken any anti-viral\")"
   ]
  },
  {
   "cell_type": "code",
   "execution_count": 56,
   "metadata": {},
   "outputs": [
    {
     "data": {
      "text/plain": [
       "Text(0.5, 1.0, 'avoided contact with infected person')"
      ]
     },
     "execution_count": 56,
     "metadata": {},
     "output_type": "execute_result"
    },
    {
     "data": {
      "image/png": "[encoded data removed]",
      "text/plain": [
       "<Figure size 640x480 with 1 Axes>"
      ]
     },
     "metadata": {},
     "output_type": "display_data"
    }
   ],
   "source": [
    "alfa = sns.barplot(x = merged_frames['behavioral_avoidance'].unique(), y = merged_frames['behavioral_avoidance'].value_counts())\n",
    "alfa.set_xticks([0,1], labels=['not avoided','avoided'])\n",
    "alfa.set_title(\"avoided contact with infected person\")"
   ]
  },
  {
   "cell_type": "code",
   "execution_count": 57,
   "metadata": {},
   "outputs": [
    {
     "data": {
      "text/plain": [
       "Text(0.5, 1.0, 'Face Mask')"
      ]
     },
     "execution_count": 57,
     "metadata": {},
     "output_type": "execute_result"
    },
    {
     "data": {
      "image/png": "[encoded data removed]",
      "text/plain": [
       "<Figure size 640x480 with 1 Axes>"
      ]
     },
     "metadata": {},
     "output_type": "display_data"
    }
   ],
   "source": [
    "alfa = sns.barplot(x = merged_frames['behavioral_face_mask'].unique(),y = merged_frames['behavioral_face_mask'].value_counts())\n",
    "alfa.set_xticks([0,1], labels=['not_bought', 'bought'])\n",
    "alfa.set_title(\"Face Mask\")\n"
   ]
  },
  {
   "cell_type": "code",
   "execution_count": 58,
   "metadata": {},
   "outputs": [
    {
     "data": {
      "text/plain": [
       "Text(0.5, 1.0, 'wash hands?')"
      ]
     },
     "execution_count": 58,
     "metadata": {},
     "output_type": "execute_result"
    },
    {
     "data": {
      "image/png": "[encoded data removed]",
      "text/plain": [
       "<Figure size 640x480 with 1 Axes>"
      ]
     },
     "metadata": {},
     "output_type": "display_data"
    }
   ],
   "source": [
    "alfa = sns.barplot(x = merged_frames['behavioral_wash_hands'].unique(),y = merged_frames['behavioral_wash_hands'].value_counts())\n",
    "alfa.set_xticks([0,1], labels=['not wash', 'wash'])\n",
    "alfa.set_title(\"wash hands?\")"
   ]
  },
  {
   "cell_type": "code",
   "execution_count": 59,
   "metadata": {},
   "outputs": [
    {
     "data": {
      "text/plain": [
       "Text(0.5, 1.0, 'avoided large crowd')"
      ]
     },
     "execution_count": 59,
     "metadata": {},
     "output_type": "execute_result"
    },
    {
     "data": {
      "image/png": "[encoded data removed]",
      "text/plain": [
       "<Figure size 640x480 with 1 Axes>"
      ]
     },
     "metadata": {},
     "output_type": "display_data"
    }
   ],
   "source": [
    "alfa = sns.barplot(x = merged_frames['behavioral_large_gatherings'].unique(),y = merged_frames['behavioral_large_gatherings'].value_counts())\n",
    "alfa.set_xticks([0,1], labels=['not avoided', 'avoided'])\n",
    "alfa.set_title(\"avoided large crowd\")"
   ]
  },
  {
   "cell_type": "code",
   "execution_count": 60,
   "metadata": {},
   "outputs": [
    {
     "data": {
      "text/plain": [
       "Text(0.5, 1.0, 'reduced contact with people outside of own household ?')"
      ]
     },
     "execution_count": 60,
     "metadata": {},
     "output_type": "execute_result"
    },
    {
     "data": {
      "image/png": "[encoded data removed]",
      "text/plain": [
       "<Figure size 640x480 with 1 Axes>"
      ]
     },
     "metadata": {},
     "output_type": "display_data"
    }
   ],
   "source": [
    "alfa = sns.barplot(x =merged_frames['behavioral_outside_home'].unique(), y = merged_frames['behavioral_outside_home'].value_counts())\n",
    "alfa.set_xticks([0,1], labels=['not avoided', 'avoided'])\n",
    "alfa.set_title(\"reduced contact with people outside of own household ?\")\n"
   ]
  },
  {
   "cell_type": "code",
   "execution_count": 61,
   "metadata": {},
   "outputs": [
    {
     "data": {
      "text/plain": [
       "Text(0.5, 1.0, 'avoided touching face?')"
      ]
     },
     "execution_count": 61,
     "metadata": {},
     "output_type": "execute_result"
    },
    {
     "data": {
      "image/png": "[encoded data removed]",
      "text/plain": [
       "<Figure size 640x480 with 1 Axes>"
      ]
     },
     "metadata": {},
     "output_type": "display_data"
    }
   ],
   "source": [
    "alfa = sns.barplot(x = merged_frames['behavioral_touch_face'].unique(), y = merged_frames['behavioral_touch_face'].value_counts())\n",
    "alfa.set_xticks([0,1], labels=['not avoided', 'avoided'])\n",
    "alfa.set_title(\"avoided touching face?\")"
   ]
  },
  {
   "cell_type": "code",
   "execution_count": 62,
   "metadata": {},
   "outputs": [
    {
     "data": {
      "text/plain": [
       "Text(0.5, 1.0, 'Sex')"
      ]
     },
     "execution_count": 62,
     "metadata": {},
     "output_type": "execute_result"
    },
    {
     "data": {
      "image/png": "[encoded data removed]",
      "text/plain": [
       "<Figure size 640x480 with 1 Axes>"
      ]
     },
     "metadata": {},
     "output_type": "display_data"
    }
   ],
   "source": [
    "alfa = sns.barplot(x = merged_frames['sex'].unique(), y = merged_frames['sex'].value_counts())\n",
    "alfa.set_xticks([0,1], labels=['female', 'male'])\n",
    "alfa.set_title(\"Sex\")"
   ]
  },
  {
   "cell_type": "code",
   "execution_count": 63,
   "metadata": {},
   "outputs": [
    {
     "data": {
      "text/plain": [
       "Text(0.5, 1.0, 'age group')"
      ]
     },
     "execution_count": 63,
     "metadata": {},
     "output_type": "execute_result"
    },
    {
     "data": {
      "image/png": "[encoded data removed]",
      "text/plain": [
       "<Figure size 640x480 with 1 Axes>"
      ]
     },
     "metadata": {},
     "output_type": "display_data"
    }
   ],
   "source": [
    "# age distribution\n",
    "alfa = sns.barplot(x = merged_frames['age_group'].unique(), y = merged_frames['age_group'].value_counts())\n",
    "alfa.set_xticks([0,1,2,3,4], labels=['55 - 64 Years',\n",
    " '35 - 44 Years',\n",
    " '18 - 34 Years',\n",
    " '65+ Years',\n",
    " '45 - 54 Years'])\n",
    "alfa.set_title(\"age group\")"
   ]
  },
  {
   "cell_type": "code",
   "execution_count": 64,
   "metadata": {},
   "outputs": [
    {
     "data": {
      "text/plain": [
       "[<matplotlib.axis.XTick at 0x24255666410>,\n",
       " <matplotlib.axis.XTick at 0x242556663e0>,\n",
       " <matplotlib.axis.XTick at 0x24255666020>]"
      ]
     },
     "execution_count": 64,
     "metadata": {},
     "output_type": "execute_result"
    },
    {
     "data": {
      "image/png": "[encoded data removed]",
      "text/plain": [
       "<Figure size 640x480 with 1 Axes>"
      ]
     },
     "metadata": {},
     "output_type": "display_data"
    }
   ],
   "source": [
    "# employeed\n",
    "alfa = sns.barplot(x = merged_frames['income_poverty'].unique(), y = merged_frames['income_poverty'].value_counts())\n",
    "alfa.set_xticks([0,1,2],labels=['Below Poverty', '<= $75,000, Above Poverty', '> $75,000'])"
   ]
  },
  {
   "cell_type": "code",
   "execution_count": 65,
   "metadata": {},
   "outputs": [
    {
     "data": {
      "text/plain": [
       "<AxesSubplot: >"
      ]
     },
     "execution_count": 65,
     "metadata": {},
     "output_type": "execute_result"
    },
    {
     "data": {
      "image/png": "[encoded data removed]",
      "text/plain": [
       "<Figure size 640x480 with 2 Axes>"
      ]
     },
     "metadata": {},
     "output_type": "display_data"
    }
   ],
   "source": [
    "sns.heatmap(merged_frames.corr(method=\"pearson\"))"
   ]
  },
  {
   "cell_type": "code",
   "execution_count": 66,
   "metadata": {},
   "outputs": [
    {
     "name": "stdout",
     "output_type": "stream",
     "text": [
      "Help on function barplot in module seaborn.categorical:\n",
      "\n",
      "barplot(data=None, *, x=None, y=None, hue=None, order=None, hue_order=None, estimator='mean', errorbar=('ci', 95), n_boot=1000, units=None, seed=None, orient=None, color=None, palette=None, saturation=0.75, width=0.8, errcolor='.26', errwidth=None, capsize=None, dodge=True, ci='deprecated', ax=None, **kwargs)\n",
      "    Show point estimates and errors as rectangular bars.\n",
      "    \n",
      "    A bar plot represents an estimate of central tendency for a numeric\n",
      "    variable with the height of each rectangle and provides some indication of\n",
      "    the uncertainty around that estimate using error bars. Bar plots include 0\n",
      "    in the quantitative axis range, and they are a good choice when 0 is a\n",
      "    meaningful value for the quantitative variable, and you want to make\n",
      "    comparisons against it.\n",
      "    \n",
      "    For datasets where 0 is not a meaningful value, a point plot will allow you\n",
      "    to focus on differences between levels of one or more categorical\n",
      "    variables.\n",
      "    \n",
      "    It is also important to keep in mind that a bar plot shows only the mean\n",
      "    (or other estimator) value, but in many cases it may be more informative to\n",
      "    show the distribution of values at each level of the categorical variables.\n",
      "    In that case, other approaches such as a box or violin plot may be more\n",
      "    appropriate.\n",
      "    \n",
      "    .. note::\n",
      "        This function always treats one of the variables as categorical and\n",
      "        draws data at ordinal positions (0, 1, ... n) on the relevant axis,\n",
      "        even when the data has a numeric or date type.\n",
      "    \n",
      "    See the :ref:`tutorial <categorical_tutorial>` for more information.    \n",
      "    \n",
      "    Parameters\n",
      "    ----------\n",
      "    data : DataFrame, array, or list of arrays, optional\n",
      "        Dataset for plotting. If ``x`` and ``y`` are absent, this is\n",
      "        interpreted as wide-form. Otherwise it is expected to be long-form.    \n",
      "    x, y, hue : names of variables in ``data`` or vector data, optional\n",
      "        Inputs for plotting long-form data. See examples for interpretation.    \n",
      "    order, hue_order : lists of strings, optional\n",
      "        Order to plot the categorical levels in; otherwise the levels are\n",
      "        inferred from the data objects.    \n",
      "    estimator : string or callable that maps vector -> scalar, optional\n",
      "        Statistical function to estimate within each categorical bin.\n",
      "    errorbar : string, (string, number) tuple, callable or None\n",
      "        Name of errorbar method (either \"ci\", \"pi\", \"se\", or \"sd\"), or a tuple\n",
      "        with a method name and a level parameter, or a function that maps from a\n",
      "        vector to a (min, max) interval, or None to hide errorbar.\n",
      "    n_boot : int, optional\n",
      "        Number of bootstrap samples used to compute confidence intervals.\n",
      "    units : name of variable in ``data`` or vector data, optional\n",
      "        Identifier of sampling units, which will be used to perform a\n",
      "        multilevel bootstrap and account for repeated measures design.\n",
      "    seed : int, numpy.random.Generator, or numpy.random.RandomState, optional\n",
      "        Seed or random number generator for reproducible bootstrapping.    \n",
      "    orient : \"v\" | \"h\", optional\n",
      "        Orientation of the plot (vertical or horizontal). This is usually\n",
      "        inferred based on the type of the input variables, but it can be used\n",
      "        to resolve ambiguity when both `x` and `y` are numeric or when\n",
      "        plotting wide-form data.    \n",
      "    color : matplotlib color, optional\n",
      "        Single color for the elements in the plot.    \n",
      "    palette : palette name, list, or dict\n",
      "        Colors to use for the different levels of the ``hue`` variable. Should\n",
      "        be something that can be interpreted by :func:`color_palette`, or a\n",
      "        dictionary mapping hue levels to matplotlib colors.    \n",
      "    saturation : float, optional\n",
      "        Proportion of the original saturation to draw colors at. Large patches\n",
      "        often look better with slightly desaturated colors, but set this to\n",
      "        `1` if you want the plot colors to perfectly match the input color.    \n",
      "    width : float, optional\n",
      "        Width of a full element when not using hue nesting, or width of all the\n",
      "        elements for one level of the major grouping variable.    \n",
      "    errcolor : matplotlib color\n",
      "        Color used for the error bar lines.\n",
      "    errwidth : float, optional\n",
      "        Thickness of error bar lines (and caps).    \n",
      "    capsize : float, optional\n",
      "        Width of the \"caps\" on error bars.    \n",
      "    dodge : bool, optional\n",
      "        When hue nesting is used, whether elements should be shifted along the\n",
      "        categorical axis.    \n",
      "    ax : matplotlib Axes, optional\n",
      "        Axes object to draw the plot onto, otherwise uses the current Axes.    \n",
      "    kwargs : key, value mappings\n",
      "        Other keyword arguments are passed through to\n",
      "        :meth:`matplotlib.axes.Axes.bar`.\n",
      "    \n",
      "    Returns\n",
      "    -------\n",
      "    ax : matplotlib Axes\n",
      "        Returns the Axes object with the plot drawn onto it.    \n",
      "    \n",
      "    See Also\n",
      "    --------\n",
      "    countplot : Show the counts of observations in each categorical bin.    \n",
      "    pointplot : Show point estimates and confidence intervals using scatterplot\n",
      "                glyphs.    \n",
      "    catplot : Combine a categorical plot with a :class:`FacetGrid`.    \n",
      "    \n",
      "    Examples\n",
      "    --------\n",
      "    \n",
      "    .. include:: ../docstrings/barplot.rst\n",
      "\n"
     ]
    }
   ],
   "source": [
    "help(sns.barplot)"
   ]
  },
  {
   "cell_type": "markdown",
   "metadata": {},
   "source": [
    "<h1> h1n1_vaccine model </h1>\n",
    "<img src = \"https://imgs.search.brave.com/DrrT9X670cnBUVKSd5E7_8B3BXw-mfILltCDo6Fv9Uc/rs:fit:860:0:0:0/g:ce/aHR0cHM6Ly9tZWRp/YS5pc3RvY2twaG90/by5jb20vaWQvMTQ0/MDk4NjIzNi9waG90/by9jbG9zZS11cC1p/bWFnZS1vZi12YWNj/aW5lLXZpYWwtYW5k/LXN5cmluZ2Utb24t/Y2RjLWNvdmlkLTE5/LXZhY2NpbmF0aW9u/LXJlY29yZC1jYXJk/LmpwZz9zPTYxMng2/MTImdz0wJms9MjAm/Yz1iblI0Nml3Q0x3/X0pxVFpPSjBnNGFR/Q3F5VkhsbVJRaU43/bUlFTGpHcGpNPQ\" height = \"200px\" weight = \"200px\">"
   ]
  },
  {
   "cell_type": "code",
   "execution_count": 126,
   "metadata": {},
   "outputs": [],
   "source": [
    "from sklearn.model_selection import train_test_split\n",
    "\n",
    "X = merged_frames.drop(columns=['respondent_id','h1n1_vaccine','seasonal_vaccine'])  # Features\n",
    "y = merged_frames['h1n1_vaccine']  # Target\n",
    "\n",
    "X_train, X_test, y_train, y_test = train_test_split(X, y, test_size=0.2, stratify=y, random_state=42)\n"
   ]
  },
  {
   "cell_type": "code",
   "execution_count": 114,
   "metadata": {},
   "outputs": [
    {
     "data": {
      "text/plain": [
       "0    9097\n",
       "1    2570\n",
       "Name: h1n1_vaccine, dtype: int64"
      ]
     },
     "execution_count": 114,
     "metadata": {},
     "output_type": "execute_result"
    }
   ],
   "source": [
    "y.value_counts()"
   ]
  },
  {
   "cell_type": "code",
   "execution_count": null,
   "metadata": {},
   "outputs": [
    {
     "data": {
      "text/plain": [
       "Index(['respondent_id', 'h1n1_concern', 'h1n1_knowledge',\n",
       "       'behavioral_antiviral_meds', 'behavioral_avoidance',\n",
       "       'behavioral_face_mask', 'behavioral_wash_hands',\n",
       "       'behavioral_large_gatherings', 'behavioral_outside_home',\n",
       "       'behavioral_touch_face', 'chronic_med_condition',\n",
       "       'child_under_6_months', 'health_worker', 'age_group', 'education',\n",
       "       'race', 'sex', 'income_poverty', 'marital_status', 'rent_or_own',\n",
       "       'hhs_geo_region', 'census_msa', 'household_adults',\n",
       "       'household_children', 'employment_industry', 'employment_occupation',\n",
       "       'h1n1_vaccine', 'seasonal_vaccine'],\n",
       "      dtype='object')"
      ]
     },
     "execution_count": 80,
     "metadata": {},
     "output_type": "execute_result"
    }
   ],
   "source": [
    "merged_frames.columns"
   ]
  },
  {
   "cell_type": "code",
   "execution_count": 139,
   "metadata": {},
   "outputs": [],
   "source": [
    "data_test = pd.read_csv(\"test_data.csv\")\n",
    "x = data_test.drop(columns=['respondent_id','Unnamed: 0'])"
   ]
  },
  {
   "cell_type": "code",
   "execution_count": 120,
   "metadata": {},
   "outputs": [],
   "source": [
    "alfa_1 = []"
   ]
  },
  {
   "cell_type": "code",
   "execution_count": 121,
   "metadata": {},
   "outputs": [
    {
     "name": "stdout",
     "output_type": "stream",
     "text": [
      "Logistic Regression: Accuracy = 0.7913, ROC AUC = 0.7102\n"
     ]
    },
    {
     "name": "stderr",
     "output_type": "stream",
     "text": [
      "c:\\Users\\hp\\anaconda3\\envs\\data_science\\lib\\site-packages\\sklearn\\linear_model\\_logistic.py:444: ConvergenceWarning: lbfgs failed to converge (status=1):\n",
      "STOP: TOTAL NO. of ITERATIONS REACHED LIMIT.\n",
      "\n",
      "Increase the number of iterations (max_iter) or scale the data as shown in:\n",
      "    https://scikit-learn.org/stable/modules/preprocessing.html\n",
      "Please also refer to the documentation for alternative solver options:\n",
      "    https://scikit-learn.org/stable/modules/linear_model.html#logistic-regression\n",
      "  n_iter_i = _check_optimize_result(\n"
     ]
    }
   ],
   "source": [
    "from sklearn.linear_model import LogisticRegression\n",
    "from sklearn.ensemble import RandomForestClassifier\n",
    "from sklearn.svm import SVC\n",
    "from sklearn.neighbors import KNeighborsClassifier\n",
    "from sklearn.neural_network import MLPClassifier\n",
    "from sklearn.metrics import accuracy_score, roc_auc_score\n",
    "\n",
    "# Define models\n",
    "models = {\n",
    "    \"Logistic Regression\": LogisticRegression(),\n",
    "    #\"Random Forest\": RandomForestClassifier(n_estimators=100, random_state=42),\n",
    "    #\"SVM\": SVC(probability=True),\n",
    "    #\"K-Nearest Neighbors\": KNeighborsClassifier(n_neighbors=5)\n",
    "    #\"Neural Network\": MLPClassifier(hidden_layer_sizes=(100,50), max_iter=500, random_state=42)\n",
    "}\n",
    "\n",
    "# Train and evaluate each model\n",
    "results = {}\n",
    "for name, model in models.items():\n",
    "    model.fit(X_train, y_train)\n",
    "    y_pred = model.predict(X_test)\n",
    "    y_pred_prob = model.predict_proba(X_test)[:, 1]  # Probability for AUC\n",
    "\n",
    "    # predicting test variable\n",
    "    test_predict = model.predict_proba(x)[:,1]\n",
    "    for i in test_predict:\n",
    "        alfa_1.append(i)\n",
    "    \n",
    "    accuracy = accuracy_score(y_test, y_pred)\n",
    "    roc_auc = roc_auc_score(y_test, y_pred_prob)\n",
    "\n",
    "    results[name] = {\"Accuracy\": accuracy, \"ROC AUC\": roc_auc}\n",
    "    print(f\"{name}: Accuracy = {accuracy:.4f}, ROC AUC = {roc_auc:.4f}\")\n",
    "\n"
   ]
  },
  {
   "cell_type": "markdown",
   "metadata": {},
   "source": [
    "<h1 style=\"color: Yellow; font-size: 32px; text-align: center; font-family: Arial, sans-serif;\">\n",
    "    Season Vaccine Model\n",
    "</h1>\n"
   ]
  },
  {
   "cell_type": "code",
   "execution_count": 140,
   "metadata": {},
   "outputs": [],
   "source": [
    "alfa_2 = []"
   ]
  },
  {
   "cell_type": "code",
   "execution_count": 141,
   "metadata": {},
   "outputs": [
    {
     "name": "stdout",
     "output_type": "stream",
     "text": [
      "Logistic Regression: Accuracy = 0.6590, ROC AUC = 0.7098\n"
     ]
    },
    {
     "name": "stderr",
     "output_type": "stream",
     "text": [
      "c:\\Users\\hp\\anaconda3\\envs\\data_science\\lib\\site-packages\\sklearn\\linear_model\\_logistic.py:444: ConvergenceWarning: lbfgs failed to converge (status=1):\n",
      "STOP: TOTAL NO. of ITERATIONS REACHED LIMIT.\n",
      "\n",
      "Increase the number of iterations (max_iter) or scale the data as shown in:\n",
      "    https://scikit-learn.org/stable/modules/preprocessing.html\n",
      "Please also refer to the documentation for alternative solver options:\n",
      "    https://scikit-learn.org/stable/modules/linear_model.html#logistic-regression\n",
      "  n_iter_i = _check_optimize_result(\n"
     ]
    }
   ],
   "source": [
    "# making models for seasonal vaccine\n",
    "\n",
    "X = merged_frames.drop(columns=['respondent_id','seasonal_vaccine','h1n1_vaccine'])  # Features\n",
    "y = merged_frames['seasonal_vaccine']  # Target\n",
    "\n",
    "X_train, X_test, y_train, y_test = train_test_split(X, y, test_size=0.2, stratify=y, random_state=42)\n",
    "\n",
    "\n",
    "models = {\n",
    "    \"Logistic Regression\": LogisticRegression(),\n",
    "    #\"Random Forest\": RandomForestClassifier(n_estimators=100, random_state=42),\n",
    "    #\"SVM\": SVC(probability=True),\n",
    "    #\"K-Nearest Neighbors\": KNeighborsClassifier(n_neighbors=5),\n",
    "    #\"Neural Network\": MLPClassifier(hidden_layer_sizes=(100,50), max_iter=500, random_state=42)\n",
    "}\n",
    "\n",
    "# Train and evaluate each model\n",
    "results = {}\n",
    "for name, model in models.items():\n",
    "    model.fit(X_train, y_train)\n",
    "    y_pred = model.predict(X_test)\n",
    "    y_pred_prob = model.predict_proba(X_test)[:, 1]  # Probability for AUC\n",
    "\n",
    "    # preddicting probability\n",
    "    test_predict = model.predict_proba(x)[:,1]\n",
    "    for i in test_predict:\n",
    "        alfa_2.append(i)\n",
    "    accuracy = accuracy_score(y_test, y_pred)\n",
    "    roc_auc = roc_auc_score(y_test, y_pred_prob)\n",
    "\n",
    "\n",
    "    results[name] = {\"Accuracy\": accuracy, \"ROC AUC\": roc_auc}\n",
    "    print(f\"{name}: Accuracy = {accuracy:.4f}, ROC AUC = {roc_auc:.4f}\")\n"
   ]
  },
  {
   "cell_type": "code",
   "execution_count": 142,
   "metadata": {},
   "outputs": [
    {
     "data": {
      "text/plain": [
       "[0.4677729506730072,\n",
       " 0.10436904877450166,\n",
       " 0.6577249493624971,\n",
       " 0.6527392711828299,\n",
       " 0.7104652333075666,\n",
       " 0.4570721577286921,\n",
       " 0.4499522959430565,\n",
       " 0.6229335923965416,\n",
       " 0.25598111808720364,\n",
       " 0.19337188959746485,\n",
       " 0.47190640535505113,\n",
       " 0.39839922119748356,\n",
       " 0.4986914182282775,\n",
       " 0.7203263116526939,\n",
       " 0.6395026893632838,\n",
       " 0.6350650722654555,\n",
       " 0.43111652967851644,\n",
       " 0.4865433486418837,\n",
       " 0.629648658783895,\n",
       " 0.260195204960759,\n",
       " 0.22689986654000138,\n",
       " 0.33928830965231976,\n",
       " 0.6356250687967975,\n",
       " 0.627990150540293,\n",
       " 0.326806615302509,\n",
       " 0.4585042600002235,\n",
       " 0.6265294935101662,\n",
       " 0.7301987737517106,\n",
       " 0.10891645315107155,\n",
       " 0.19876903318273562,\n",
       " 0.662988328671723,\n",
       " 0.5803634622949039,\n",
       " 0.31473235646236,\n",
       " 0.3878385031134466,\n",
       " 0.3365573559545949,\n",
       " 0.33428969608418135,\n",
       " 0.2911152543432394,\n",
       " 0.3316586288871359,\n",
       " 0.5658011746563395,\n",
       " 0.5155447032803983,\n",
       " 0.29573788644636795,\n",
       " 0.45304813907134833,\n",
       " 0.0687646298725159,\n",
       " 0.5913062044315764,\n",
       " 0.6672950472670163,\n",
       " 0.4037515252451103,\n",
       " 0.8751652079311946,\n",
       " 0.46195300313917803,\n",
       " 0.4753457520791442,\n",
       " 0.4053015775382379,\n",
       " 0.41742321354978196,\n",
       " 0.3448301699652108,\n",
       " 0.6772801791356552,\n",
       " 0.3122935354289874,\n",
       " 0.519930951785743,\n",
       " 0.34449350260424705,\n",
       " 0.47323566119665406,\n",
       " 0.2191452959431003,\n",
       " 0.5776882474741672,\n",
       " 0.1542701895692609,\n",
       " 0.38258271582412673,\n",
       " 0.5845856256502183,\n",
       " 0.4816960390794115,\n",
       " 0.3145597571871854,\n",
       " 0.15299613847410962,\n",
       " 0.7870062180357719,\n",
       " 0.434818570822713,\n",
       " 0.6686898120164741,\n",
       " 0.11480406707019856,\n",
       " 0.30619762794013144,\n",
       " 0.5660155590591672,\n",
       " 0.5002203412186014,\n",
       " 0.1844469857772024,\n",
       " 0.48852321924639347,\n",
       " 0.6408743049282514,\n",
       " 0.2059600710613651,\n",
       " 0.40318476325255,\n",
       " 0.21872364422359722,\n",
       " 0.2652000579777369,\n",
       " 0.4421642895169851,\n",
       " 0.07767831927137464,\n",
       " 0.1517727303036937,\n",
       " 0.7107774040346306,\n",
       " 0.24311831808836298,\n",
       " 0.110031290116759,\n",
       " 0.720446700569748,\n",
       " 0.3073345724584679,\n",
       " 0.7464171691799506,\n",
       " 0.44792540250538787,\n",
       " 0.3231745361213272,\n",
       " 0.19399822403421976,\n",
       " 0.2003293916567905,\n",
       " 0.7049851242395598,\n",
       " 0.2870422362033544,\n",
       " 0.5997533437331536,\n",
       " 0.45985102655714966,\n",
       " 0.33653285462256377,\n",
       " 0.21755503716401312,\n",
       " 0.38814359634990586,\n",
       " 0.18035301787195493,\n",
       " 0.6325120531178103,\n",
       " 0.6785674961264324,\n",
       " 0.44008895183302077,\n",
       " 0.5086848057548595,\n",
       " 0.7461732091538701,\n",
       " 0.27983844590512885,\n",
       " 0.8532981774065049,\n",
       " 0.48432906569092615,\n",
       " 0.6470930334100771,\n",
       " 0.17638867095991437,\n",
       " 0.4783421499490558,\n",
       " 0.4950738393471132,\n",
       " 0.36707621546760144,\n",
       " 0.2736277741187899,\n",
       " 0.7354650436702296,\n",
       " 0.46725584354547955,\n",
       " 0.4296604393906949,\n",
       " 0.2213328841571476,\n",
       " 0.3689849892976237,\n",
       " 0.7672635320736817,\n",
       " 0.2923089512180846,\n",
       " 0.2854207100190929,\n",
       " 0.42628883377243976,\n",
       " 0.5743872369010233,\n",
       " 0.3246285279197714,\n",
       " 0.9010170112801651,\n",
       " 0.46491110503537664,\n",
       " 0.2878414717932475,\n",
       " 0.5376014188388459,\n",
       " 0.29832133935151434,\n",
       " 0.34808919985377146,\n",
       " 0.6602270013932792,\n",
       " 0.45239319021302254,\n",
       " 0.8301332836888295,\n",
       " 0.3000669160102512,\n",
       " 0.4173223863729157,\n",
       " 0.497107619390419,\n",
       " 0.7644341207988306,\n",
       " 0.38505752593116616,\n",
       " 0.3679914489273204,\n",
       " 0.3068063026661676,\n",
       " 0.3768515280760933,\n",
       " 0.19556467599835126,\n",
       " 0.7229964220303703,\n",
       " 0.15184416909582596,\n",
       " 0.49584062696067516,\n",
       " 0.6806030570383065,\n",
       " 0.35695059464721396,\n",
       " 0.19777295842677575,\n",
       " 0.3202788350956602,\n",
       " 0.3116712733095791,\n",
       " 0.48667807463618123,\n",
       " 0.5730108486735854,\n",
       " 0.2310987810212235,\n",
       " 0.43335468102698327,\n",
       " 0.13239568722984124,\n",
       " 0.42038317251957474,\n",
       " 0.6023533538134913,\n",
       " 0.22153670203349346,\n",
       " 0.6508963753449349,\n",
       " 0.18077733530347895,\n",
       " 0.9039636856056478,\n",
       " 0.491731244101175,\n",
       " 0.1162013752875457,\n",
       " 0.5869638931791551,\n",
       " 0.22907704031503168,\n",
       " 0.2926802649235398,\n",
       " 0.4416941909094081,\n",
       " 0.5720249380901069,\n",
       " 0.18084904459561435,\n",
       " 0.07848727553824851,\n",
       " 0.3414369541700479,\n",
       " 0.5410621220476941,\n",
       " 0.7126428684261089,\n",
       " 0.5917862102729414,\n",
       " 0.33673113979068503,\n",
       " 0.24290058046546165,\n",
       " 0.29100328112665375,\n",
       " 0.19216933779252493,\n",
       " 0.6762832264692455,\n",
       " 0.3459576238635358,\n",
       " 0.1861624782007281,\n",
       " 0.5461805725074304,\n",
       " 0.3929424374537061,\n",
       " 0.40935709087224226,\n",
       " 0.4151848425753967,\n",
       " 0.4658376158102748,\n",
       " 0.39954142126628606,\n",
       " 0.7812052729647551,\n",
       " 0.23885042433190087,\n",
       " 0.20924093691612958,\n",
       " 0.6816615206569002,\n",
       " 0.3869376856920256,\n",
       " 0.3844468967622705,\n",
       " 0.060157731608365364,\n",
       " 0.1944420061381679,\n",
       " 0.2991894540019496,\n",
       " 0.5729735809336336,\n",
       " 0.4751762465011123,\n",
       " 0.7786137363829355,\n",
       " 0.5010268785679419,\n",
       " 0.8154647848054115,\n",
       " 0.4104268222288904,\n",
       " 0.6920523515561519,\n",
       " 0.6833243016074164,\n",
       " 0.37234838054674646,\n",
       " 0.4054829962442386,\n",
       " 0.30309538917489454,\n",
       " 0.16297698580652126,\n",
       " 0.7908437770701444,\n",
       " 0.30723423518161086,\n",
       " 0.333397427553987,\n",
       " 0.715775683621047,\n",
       " 0.49936843121436375,\n",
       " 0.7074265891204518,\n",
       " 0.17171162212083455,\n",
       " 0.5722598803469676,\n",
       " 0.10343375912402529,\n",
       " 0.5462307254909875,\n",
       " 0.5348366452481886,\n",
       " 0.43557494372032185,\n",
       " 0.564807642482423,\n",
       " 0.2297101991942585,\n",
       " 0.5772169238390228,\n",
       " 0.48988823509274887,\n",
       " 0.34376344870461006,\n",
       " 0.34432247245403524,\n",
       " 0.3226513962776485,\n",
       " 0.6415644188973366,\n",
       " 0.4284611386079139,\n",
       " 0.1596581795735637,\n",
       " 0.5295308718996092,\n",
       " 0.2257868288605516,\n",
       " 0.33755668978962955,\n",
       " 0.35190022327271875,\n",
       " 0.7500261507922521,\n",
       " 0.1284263104190412,\n",
       " 0.26724415779533606,\n",
       " 0.15675921415931898,\n",
       " 0.7368311143632119,\n",
       " 0.2850367966004917,\n",
       " 0.5603419039389902,\n",
       " 0.4301869387545681,\n",
       " 0.6147631613812133,\n",
       " 0.6067395730896274,\n",
       " 0.12649917125552776,\n",
       " 0.5110822727902017,\n",
       " 0.18804905042245268,\n",
       " 0.22276585706060595,\n",
       " 0.5514591559273561,\n",
       " 0.7486736913761433,\n",
       " 0.8311649548018291,\n",
       " 0.3939375871617519,\n",
       " 0.40768179039805896,\n",
       " 0.3790790646825246,\n",
       " 0.5036412162376221,\n",
       " 0.4468980056245297,\n",
       " 0.3836503495876902,\n",
       " 0.7517335366640213,\n",
       " 0.2839825821433357,\n",
       " 0.3454189481242563,\n",
       " 0.6485930238919416,\n",
       " 0.8577047797880939,\n",
       " 0.22643762992794755,\n",
       " 0.6726645505379648,\n",
       " 0.07960212318482254,\n",
       " 0.14693888499531121,\n",
       " 0.24565260264439098,\n",
       " 0.3838392512782771,\n",
       " 0.4374034111118649,\n",
       " 0.2566210744003114,\n",
       " 0.3208696355003577,\n",
       " 0.749478113328051,\n",
       " 0.3210880127590744,\n",
       " 0.1114563475218954,\n",
       " 0.6255671605832347,\n",
       " 0.4646524012190881,\n",
       " 0.7017371818850078,\n",
       " 0.19487695481815923,\n",
       " 0.3047135556522022,\n",
       " 0.23551248554263868,\n",
       " 0.2535630792913734,\n",
       " 0.22541340142507996,\n",
       " 0.4340388937455222,\n",
       " 0.32342974458084167,\n",
       " 0.11256603847714348,\n",
       " 0.3881163017729576,\n",
       " 0.5763539823328947,\n",
       " 0.7007744132432873,\n",
       " 0.38039252805539003,\n",
       " 0.3827762667938764,\n",
       " 0.2543399923475549,\n",
       " 0.28826627788620957,\n",
       " 0.24180934388854097,\n",
       " 0.22875412465097486,\n",
       " 0.22755009365896486,\n",
       " 0.393791867939061,\n",
       " 0.4164449428453087,\n",
       " 0.6569352744419302,\n",
       " 0.3596005993853359,\n",
       " 0.23070230063825986,\n",
       " 0.39130677891182636,\n",
       " 0.6847051063541096,\n",
       " 0.3912021380512877,\n",
       " 0.36681746631274237,\n",
       " 0.527285102321079,\n",
       " 0.5885933193180182,\n",
       " 0.388022380815282,\n",
       " 0.25134648361676687,\n",
       " 0.5563695077251403,\n",
       " 0.3356580882659354,\n",
       " 0.35479566127901907,\n",
       " 0.7518781143347443,\n",
       " 0.4407218109290926,\n",
       " 0.4889749374249313,\n",
       " 0.397350543377317,\n",
       " 0.23578178533277822,\n",
       " 0.10194686328704983,\n",
       " 0.7866466594411583,\n",
       " 0.19310073920812454,\n",
       " 0.3404462163825937,\n",
       " 0.18416753707277342,\n",
       " 0.6315758115409219,\n",
       " 0.44776217602316726,\n",
       " 0.42017131476029307,\n",
       " 0.7372539280745046,\n",
       " 0.5585729362689493,\n",
       " 0.706197993570714,\n",
       " 0.4438078732367233,\n",
       " 0.264975027987694,\n",
       " 0.21833259556815454,\n",
       " 0.6241454254864058,\n",
       " 0.5067461559579852,\n",
       " 0.4451719079466699,\n",
       " 0.23819546819081464,\n",
       " 0.5100284714457917,\n",
       " 0.25807887096303084,\n",
       " 0.3276517630436472,\n",
       " 0.1790031964754328,\n",
       " 0.32196290856957793,\n",
       " 0.5893823611376928,\n",
       " 0.5893382023419617,\n",
       " 0.2950573904976701,\n",
       " 0.053804664621689084,\n",
       " 0.403699261199923,\n",
       " 0.35008593327655774,\n",
       " 0.60829019444826,\n",
       " 0.3400267129396973,\n",
       " 0.47160695435436023,\n",
       " 0.8210215955121657,\n",
       " 0.599149629308752,\n",
       " 0.5499321693128536,\n",
       " 0.4884777741774551,\n",
       " 0.3646648992397295,\n",
       " 0.15882745183346636,\n",
       " 0.2868328712066952,\n",
       " 0.37310855893159234,\n",
       " 0.7466629590113991,\n",
       " 0.5504340051022709,\n",
       " 0.5723430015809507,\n",
       " 0.5683904072450187,\n",
       " 0.5135900032035041,\n",
       " 0.6296044573890967,\n",
       " 0.3260477225282813,\n",
       " 0.20674499219385303,\n",
       " 0.42469723514679764,\n",
       " 0.27285405940262575,\n",
       " 0.41957281057778645,\n",
       " 0.5380446424271939,\n",
       " 0.13820236411748188,\n",
       " 0.25187822081552563,\n",
       " 0.3006101357668753,\n",
       " 0.43332691463501044,\n",
       " 0.4686320531347958,\n",
       " 0.21818658514748768,\n",
       " 0.20454678223990128,\n",
       " 0.1659300079487745,\n",
       " 0.3662040973968931,\n",
       " 0.4350887890143922,\n",
       " 0.5837005204231972,\n",
       " 0.4729962283250682,\n",
       " 0.23775938884416634,\n",
       " 0.44715325915259696,\n",
       " 0.42588062685544265,\n",
       " 0.2164480822658215,\n",
       " 0.8037081993679873,\n",
       " 0.33015247472730647,\n",
       " 0.39159009136818324,\n",
       " 0.6124499557060158,\n",
       " 0.6758413873845907,\n",
       " 0.5313600141376187,\n",
       " 0.37412713574803286,\n",
       " 0.4023259749326148,\n",
       " 0.4211759010188984,\n",
       " 0.8115652593903122,\n",
       " 0.325956531438054,\n",
       " 0.6501217523321775,\n",
       " 0.1617359995600303,\n",
       " 0.7107712161145525,\n",
       " 0.22973064151520392,\n",
       " 0.32405283303787874,\n",
       " 0.6249986699068492,\n",
       " 0.4401540287625554,\n",
       " 0.21384484680834637,\n",
       " 0.5469660741660243,\n",
       " 0.3556723428682096,\n",
       " 0.5069947505069547,\n",
       " 0.2823888411110958,\n",
       " 0.4369828464046278,\n",
       " 0.40247401650322195,\n",
       " 0.3247947488577233,\n",
       " 0.31563942188659627,\n",
       " 0.12733537913281565,\n",
       " 0.5499853165439575,\n",
       " 0.41954781557680504,\n",
       " 0.37580154555677614,\n",
       " 0.22190244631870093,\n",
       " 0.3552041220595262,\n",
       " 0.5713828306043705,\n",
       " 0.2597635725708067,\n",
       " 0.3948116557641339,\n",
       " 0.6301943925818436,\n",
       " 0.5321014428105254,\n",
       " 0.8667609830460653,\n",
       " 0.40297985164296074,\n",
       " 0.3175052298229989,\n",
       " 0.3976989143710733,\n",
       " 0.4489914779462289,\n",
       " 0.5168649063177516,\n",
       " 0.40911029776094043,\n",
       " 0.3515692992456956,\n",
       " 0.25677093701641535,\n",
       " 0.3347605931022853,\n",
       " 0.6178925113373412,\n",
       " 0.3944419088618613,\n",
       " 0.219255034326157,\n",
       " 0.5524631707137907,\n",
       " 0.5837381285306196,\n",
       " 0.3283326410635135,\n",
       " 0.8756647169577596,\n",
       " 0.1530897598657357,\n",
       " 0.5059655223205616,\n",
       " 0.5314541566030168,\n",
       " 0.4090934101173029,\n",
       " 0.3494935945661826,\n",
       " 0.47445890725791545,\n",
       " 0.6864781063947559,\n",
       " 0.2768372317582765,\n",
       " 0.4854198879987262,\n",
       " 0.5489610327690275,\n",
       " 0.3220412951146776,\n",
       " 0.8226318677649209,\n",
       " 0.2979871998783943,\n",
       " 0.39896747549500367,\n",
       " 0.36776635237986577,\n",
       " 0.19763068120284363,\n",
       " 0.21398502324242608,\n",
       " 0.3657219607400889,\n",
       " 0.3925586561989652,\n",
       " 0.6896646218021134,\n",
       " 0.5679923836253263,\n",
       " 0.625989750166249,\n",
       " 0.3470659664455294,\n",
       " 0.28740696870959714,\n",
       " 0.7673245195113402,\n",
       " 0.5715113223328215,\n",
       " 0.8390613447731303,\n",
       " 0.4490619198768149,\n",
       " 0.3136649775338094,\n",
       " 0.3414491723325337,\n",
       " 0.22397005165137024,\n",
       " 0.36061791816295724,\n",
       " 0.7691215770529903,\n",
       " 0.2824532637086989,\n",
       " 0.6228751789125022,\n",
       " 0.5624767951087092,\n",
       " 0.3631978878604566,\n",
       " 0.24972963479389812,\n",
       " 0.2956711896800675,\n",
       " 0.47471692386828407,\n",
       " 0.3304552277942818,\n",
       " 0.4619854461635283,\n",
       " 0.16052460532173152,\n",
       " 0.2979111179064125,\n",
       " 0.7446631809258049,\n",
       " 0.7659859625740083,\n",
       " 0.28043104383160183,\n",
       " 0.6339962015135416,\n",
       " 0.18549129263616587,\n",
       " 0.6515697646007067,\n",
       " 0.5049505694238082,\n",
       " 0.6672146820430281,\n",
       " 0.697319747327918,\n",
       " 0.34040261554180506,\n",
       " 0.35108823875043543,\n",
       " 0.3416831750332748,\n",
       " 0.6884996405944772,\n",
       " 0.4561422966401926,\n",
       " 0.5500468846011152,\n",
       " 0.2266762995757759,\n",
       " 0.3385376956612615,\n",
       " 0.5770587031527095,\n",
       " 0.5218677407427997,\n",
       " 0.10268601272309963,\n",
       " 0.43997088791638456,\n",
       " 0.49953941110636035,\n",
       " 0.4209714978191893,\n",
       " 0.636338531978975,\n",
       " 0.6311929208470234,\n",
       " 0.529971738689561,\n",
       " 0.5048666591997152,\n",
       " 0.5471149264069379,\n",
       " 0.3814603521989145,\n",
       " 0.3894539571531889,\n",
       " 0.17916036010708175,\n",
       " 0.5509092427152832,\n",
       " 0.3073255719632838,\n",
       " 0.20888929303199413,\n",
       " 0.44545509779515546,\n",
       " 0.4547996213000408,\n",
       " 0.6460007488760047,\n",
       " 0.3464874157071483,\n",
       " 0.6565598693782987,\n",
       " 0.30630415996591936,\n",
       " 0.11763946065865724,\n",
       " 0.36433795625942117,\n",
       " 0.5164878247393995,\n",
       " 0.7067177236009728,\n",
       " 0.6988018958902255,\n",
       " 0.7799314431911419,\n",
       " 0.2107476070836232,\n",
       " 0.24746445485963953,\n",
       " 0.5229390398129187,\n",
       " 0.404202551264386,\n",
       " 0.3856833473906926,\n",
       " 0.3289868081916174,\n",
       " 0.28555641530390763,\n",
       " 0.18115234493266733,\n",
       " 0.12687024505116218,\n",
       " 0.3367834969427588,\n",
       " 0.21145985264011058,\n",
       " 0.3277035969849493,\n",
       " 0.3413024293659245,\n",
       " 0.40469537275776846,\n",
       " 0.4287207632619484,\n",
       " 0.2623441473748832,\n",
       " 0.109738359146088,\n",
       " 0.5450596187952752,\n",
       " 0.5831405625957197,\n",
       " 0.22109647233243104,\n",
       " 0.25008413852651024,\n",
       " 0.0943952385048243,\n",
       " 0.8454482562996595,\n",
       " 0.45098531574848766,\n",
       " 0.6511146936768517,\n",
       " 0.7992939616883978,\n",
       " 0.490292254755519,\n",
       " 0.43179677905685787,\n",
       " 0.4299502252676629,\n",
       " 0.22615603306051296,\n",
       " 0.3443869961191034,\n",
       " 0.6112522257734273,\n",
       " 0.8486204535061252,\n",
       " 0.3060844021544249,\n",
       " 0.6761729559684042,\n",
       " 0.3777070912972488,\n",
       " 0.48500596436155485,\n",
       " 0.4161627389953718,\n",
       " 0.6968479269261371,\n",
       " 0.22127898590101674,\n",
       " 0.29986739334760765,\n",
       " 0.5045351072314503,\n",
       " 0.2904699197977197,\n",
       " 0.6508221045489062,\n",
       " 0.40641255162252565,\n",
       " 0.50252408538992,\n",
       " 0.23273802490799939,\n",
       " 0.44451946583806895,\n",
       " 0.14337246658829605,\n",
       " 0.3285671682292345,\n",
       " 0.2944880571184171,\n",
       " 0.39993625837734637,\n",
       " 0.4915404257044392,\n",
       " 0.5516858528139191,\n",
       " 0.33532552015897904,\n",
       " 0.3780281251908076,\n",
       " 0.3869574970437329,\n",
       " 0.40991362618499755,\n",
       " 0.6585107584017561,\n",
       " 0.3108006732934747,\n",
       " 0.18236751457545017,\n",
       " 0.3155102889359458,\n",
       " 0.6778465991526291,\n",
       " 0.4930191475049831,\n",
       " 0.6021914529646012,\n",
       " 0.15514540150424802,\n",
       " 0.5404965868759503,\n",
       " 0.8105120082959367,\n",
       " 0.6181761711600916,\n",
       " 0.4524358217238408,\n",
       " 0.3721448810226695,\n",
       " 0.3239059302355094,\n",
       " 0.6412373156973092,\n",
       " 0.3120523932226893,\n",
       " 0.35084572257361063,\n",
       " 0.34024013114208707,\n",
       " 0.6775484422773795,\n",
       " 0.48891537707748506,\n",
       " 0.2990690234348741,\n",
       " 0.3295297708364823,\n",
       " 0.5088247599402065,\n",
       " 0.4102213552079657,\n",
       " 0.40149406151945666,\n",
       " 0.4812816973595936,\n",
       " 0.36655230928652394,\n",
       " 0.4420462098833521,\n",
       " 0.3162728009824865,\n",
       " 0.3949890181299858,\n",
       " 0.6294073792691265,\n",
       " 0.6648680833667511,\n",
       " 0.6342985000775192,\n",
       " 0.5373575287757284,\n",
       " 0.30169268662077203,\n",
       " 0.37427292363687703,\n",
       " 0.3773170112498379,\n",
       " 0.2524654448741031,\n",
       " 0.2994718452232677,\n",
       " 0.14689033553256614,\n",
       " 0.39555243103144505,\n",
       " 0.32759082162129294,\n",
       " 0.2162255785530864,\n",
       " 0.2239871988012907,\n",
       " 0.5141577443993003,\n",
       " 0.45677151692863477,\n",
       " 0.5690939231719624,\n",
       " 0.3772098256162868,\n",
       " 0.38666943982339924,\n",
       " 0.24141943341459843,\n",
       " 0.8113895465015961,\n",
       " 0.562894817770153,\n",
       " 0.17366894246253756,\n",
       " 0.5826903320510294,\n",
       " 0.4407244423638717,\n",
       " 0.5204462570031961,\n",
       " 0.5751424342812451,\n",
       " 0.44157672695305633,\n",
       " 0.5674391033019578,\n",
       " 0.2541948634941305,\n",
       " 0.1615108384165502,\n",
       " 0.3555298715863782,\n",
       " 0.4038902188966352,\n",
       " 0.6710537446977393,\n",
       " 0.21390151443843325,\n",
       " 0.1536544757408528,\n",
       " 0.5554438103049459,\n",
       " 0.34735296866511545,\n",
       " 0.42740079757389127,\n",
       " 0.2787082744800083,\n",
       " 0.6295714248123776,\n",
       " 0.541551930464723,\n",
       " 0.4999512515357848,\n",
       " 0.451633111712472,\n",
       " 0.2497717778984167,\n",
       " 0.48705228309068693,\n",
       " 0.2774197710356976,\n",
       " 0.42160019646858854,\n",
       " 0.2129242301095521,\n",
       " 0.35446511657054725,\n",
       " 0.30703965514542203,\n",
       " 0.15824993232004447,\n",
       " 0.3192908540413848,\n",
       " 0.8968092359147644,\n",
       " 0.5658410571227078,\n",
       " 0.3574300438059608,\n",
       " 0.5921525349068585,\n",
       " 0.25173783387883986,\n",
       " 0.473876978552807,\n",
       " 0.41386071348388326,\n",
       " 0.7786671209217773,\n",
       " 0.6324725324272241,\n",
       " 0.3237897253328767,\n",
       " 0.10465636820458668,\n",
       " 0.41760484498113476,\n",
       " 0.3227464513739649,\n",
       " 0.21422547038236114,\n",
       " 0.4501371471662268,\n",
       " 0.4932308167105087,\n",
       " 0.4291077682192248,\n",
       " 0.5363056592768183,\n",
       " 0.378529316126475,\n",
       " 0.8053136774224422,\n",
       " 0.2216961112726063,\n",
       " 0.6905898537030384,\n",
       " 0.2629568097074512,\n",
       " 0.8804239567183992,\n",
       " 0.4342879180693981,\n",
       " 0.5432209872861367,\n",
       " 0.3867374193900386,\n",
       " 0.4820976812094043,\n",
       " 0.18827024018853594,\n",
       " 0.4525812293403849,\n",
       " 0.3208941538656271,\n",
       " 0.5409081003315009,\n",
       " 0.4053642564823399,\n",
       " 0.7476661567192687,\n",
       " 0.531159852525335,\n",
       " 0.2992521228063417,\n",
       " 0.31741601232524513,\n",
       " 0.2874916503205719,\n",
       " 0.7255092184418988,\n",
       " 0.1582245410486356,\n",
       " 0.4144867813871192,\n",
       " 0.47518316806052496,\n",
       " 0.46746537169700597,\n",
       " 0.2130568582898608,\n",
       " 0.1993917897094677,\n",
       " 0.5597716795528513,\n",
       " 0.48769875255904,\n",
       " 0.24916839891821474,\n",
       " 0.47925669914271835,\n",
       " 0.5255884113066625,\n",
       " 0.4499629211263896,\n",
       " 0.23226810614523777,\n",
       " 0.6725099147345247,\n",
       " 0.21300036499811004,\n",
       " 0.28104566782627594,\n",
       " 0.5082275331071554,\n",
       " 0.7651079923486834,\n",
       " 0.3831653526016707,\n",
       " 0.4976525349147851,\n",
       " 0.21343204338419292,\n",
       " 0.21729300789424255,\n",
       " 0.6304179329402756,\n",
       " 0.7007250310703494,\n",
       " 0.29862765076227155,\n",
       " 0.4791047135768737,\n",
       " 0.5972943315876847,\n",
       " 0.393524512818415,\n",
       " 0.45354138485571616,\n",
       " 0.8064690829391632,\n",
       " 0.22424500398852498,\n",
       " 0.26748661059472784,\n",
       " 0.4118575922050219,\n",
       " 0.2332231587272916,\n",
       " 0.3263629801201258,\n",
       " 0.7153018777156801,\n",
       " 0.4220959785022448,\n",
       " 0.703110433490908,\n",
       " 0.39384351610281887,\n",
       " 0.3820871349156057,\n",
       " 0.8590365878459173,\n",
       " 0.7033787032134521,\n",
       " 0.4609941577160675,\n",
       " 0.6741552458350536,\n",
       " 0.3106930417056068,\n",
       " 0.6798064715762951,\n",
       " 0.5616726055929978,\n",
       " 0.2917035693552177,\n",
       " 0.1072125188383645,\n",
       " 0.32627441583747685,\n",
       " 0.46849960703050625,\n",
       " 0.5145992173737857,\n",
       " 0.20501854806513928,\n",
       " 0.7510568020843477,\n",
       " 0.8088966438133418,\n",
       " 0.260303308569063,\n",
       " 0.5290806524151941,\n",
       " 0.5959804433616374,\n",
       " 0.46631858656374714,\n",
       " 0.5438390113061866,\n",
       " 0.6463142081335758,\n",
       " 0.5572756500916592,\n",
       " 0.3376253317453546,\n",
       " 0.5728925436572861,\n",
       " 0.20795195380405038,\n",
       " 0.8921437672132435,\n",
       " 0.12631563344143737,\n",
       " 0.23056690365688537,\n",
       " 0.2195082519446712,\n",
       " 0.556966895719178,\n",
       " 0.1280041424295209,\n",
       " 0.6106156165410486,\n",
       " 0.3571008132008079,\n",
       " 0.3120459480278496,\n",
       " 0.3706582652904338,\n",
       " 0.2949023713353971,\n",
       " 0.3567836977620049,\n",
       " 0.28456595704105414,\n",
       " 0.23585192577182063,\n",
       " 0.6951876047379132,\n",
       " 0.22834427613603145,\n",
       " 0.3347581234434939,\n",
       " 0.620583202786239,\n",
       " 0.7641836289117412,\n",
       " 0.3873873182582128,\n",
       " 0.19775346337767574,\n",
       " 0.41193374017629153,\n",
       " 0.5822160734570792,\n",
       " 0.4498817732515475,\n",
       " 0.41861982885902876,\n",
       " 0.5909432387592365,\n",
       " 0.3314673259179337,\n",
       " 0.17255699499689162,\n",
       " 0.408275103050052,\n",
       " 0.5001936132140758,\n",
       " 0.42370833189751456,\n",
       " 0.4619345546097323,\n",
       " 0.6106981220912767,\n",
       " 0.4011663925053625,\n",
       " 0.1277631431628177,\n",
       " 0.3939894875022309,\n",
       " 0.41133735385802056,\n",
       " 0.632832855351717,\n",
       " 0.5929984725041907,\n",
       " 0.529406933354854,\n",
       " 0.6150794966611326,\n",
       " 0.6059468750770913,\n",
       " 0.373758028444406,\n",
       " 0.3120817891028549,\n",
       " 0.54055398098955,\n",
       " 0.3736734402756959,\n",
       " 0.3244687673056449,\n",
       " 0.25870182647502465,\n",
       " 0.4293908575709686,\n",
       " 0.6456777946952766,\n",
       " 0.6408994995217813,\n",
       " 0.4421494210346353,\n",
       " 0.24319253319717477,\n",
       " 0.40503732228724787,\n",
       " 0.6142652063669874,\n",
       " 0.38778233086793557,\n",
       " 0.38922695551060543,\n",
       " 0.34648022824342256,\n",
       " 0.42363223234363745,\n",
       " 0.42962863425952363,\n",
       " 0.27539469142672646,\n",
       " 0.260013186880883,\n",
       " 0.23100891919519517,\n",
       " 0.39317182008205287,\n",
       " 0.6385242502290308,\n",
       " 0.08195739253468953,\n",
       " 0.2817973559395035,\n",
       " 0.3191246902057988,\n",
       " 0.5480373552578741,\n",
       " 0.729010439771583,\n",
       " 0.35458710525244996,\n",
       " 0.4389172929645232,\n",
       " 0.5125875216784347,\n",
       " 0.6249129101419488,\n",
       " 0.3602433380456563,\n",
       " 0.43425926767487527,\n",
       " 0.18415558648781447,\n",
       " 0.3352789643702938,\n",
       " 0.2702383576410702,\n",
       " 0.7116319775297034,\n",
       " 0.6861003148474958,\n",
       " 0.3101923343989151,\n",
       " 0.16487258864702242,\n",
       " 0.4439843373154517,\n",
       " 0.22497493288724552,\n",
       " 0.4920067433068954,\n",
       " 0.5959928024340667,\n",
       " 0.5432872144151195,\n",
       " 0.11655264082846356,\n",
       " 0.31113289981437403,\n",
       " 0.31568579948939357,\n",
       " 0.3393437656110093,\n",
       " 0.6225859291617728,\n",
       " 0.5365057879264528,\n",
       " 0.3812283325611021,\n",
       " 0.358682188914638,\n",
       " 0.47283861607424404,\n",
       " 0.39128541696470703,\n",
       " 0.47845938439849867,\n",
       " 0.6209974401147585,\n",
       " 0.4121138747675528,\n",
       " 0.3940139513944855,\n",
       " 0.2171891571147397,\n",
       " 0.37078470359951066,\n",
       " 0.3441530782462704,\n",
       " 0.6894199745278883,\n",
       " 0.5433148069574777,\n",
       " 0.8189741608741341,\n",
       " 0.282808127818857,\n",
       " 0.2730043983353262,\n",
       " 0.6523755535324874,\n",
       " 0.48486938675171926,\n",
       " 0.6216193192262143,\n",
       " 0.5669601391805525,\n",
       " 0.4086066376602378,\n",
       " 0.7648508216337516,\n",
       " 0.19379974481124762,\n",
       " 0.25075872188692333,\n",
       " 0.49867453218429336,\n",
       " 0.7379496534893625,\n",
       " 0.29009094763842597,\n",
       " 0.14151260082846143,\n",
       " 0.20489094653629183,\n",
       " 0.5626856875841856,\n",
       " 0.6171175030452662,\n",
       " 0.25721963062889375,\n",
       " 0.47424944952921605,\n",
       " 0.6389960447621982,\n",
       " 0.39092950314944325,\n",
       " 0.5230945585227964,\n",
       " 0.5613535754167837,\n",
       " 0.17336733783583816,\n",
       " 0.4996345287420604,\n",
       " 0.2269156315059679,\n",
       " 0.3979063981889266,\n",
       " 0.4061999645007766,\n",
       " 0.750801182724563,\n",
       " 0.3177282263274423,\n",
       " 0.5561123516978259,\n",
       " 0.48928238930156603,\n",
       " 0.29418598341648994,\n",
       " 0.32399310994957675,\n",
       " 0.4964724305380099,\n",
       " 0.43070143348333345,\n",
       " 0.35165986332735427,\n",
       " 0.4823643579953105,\n",
       " 0.46198430428755394,\n",
       " 0.11188694620039914,\n",
       " 0.4583035600915351,\n",
       " 0.6015037046445065,\n",
       " 0.554830677048023,\n",
       " 0.3471207380156931,\n",
       " 0.14874001051463545,\n",
       " 0.4090115569215422,\n",
       " 0.46941586170789196,\n",
       " 0.19791697837362712,\n",
       " 0.46994604986408234,\n",
       " 0.256938674712561,\n",
       " 0.6705491119953764,\n",
       " 0.29721268493746705,\n",
       " 0.3873272592831019,\n",
       " 0.508190089279237,\n",
       " 0.9115551058484501,\n",
       " 0.24774605652669027,\n",
       " 0.4550731034915333,\n",
       " 0.6265340276923922,\n",
       " 0.5061570253071929,\n",
       " 0.5446453059370302,\n",
       " 0.31670339806096,\n",
       " 0.49008437805268407,\n",
       " 0.5009812458745242,\n",
       " 0.5906364564707643,\n",
       " 0.8570096514130692,\n",
       " 0.5389369737751574,\n",
       " 0.37547435554598085,\n",
       " 0.15294111767661128,\n",
       " 0.22545304705180796,\n",
       " 0.47571889584616683,\n",
       " 0.32296020257327457,\n",
       " 0.5634311063748866,\n",
       " 0.195825826706927,\n",
       " 0.3804573844140523,\n",
       " 0.29442248326652243,\n",
       " 0.27845755489197666,\n",
       " 0.4242851957413849,\n",
       " 0.7336551342140675,\n",
       " 0.5478519446212304,\n",
       " 0.10210505005183251,\n",
       " 0.18616784903035655,\n",
       " 0.7138438731946435,\n",
       " 0.3272687983666001,\n",
       " 0.6118290080888091,\n",
       " 0.3768444699196493,\n",
       " 0.498680259717303,\n",
       " 0.5465813522594385,\n",
       " 0.436513737843657,\n",
       " 0.48547161825752366,\n",
       " 0.28520197586660173,\n",
       " 0.3141618789098802,\n",
       " 0.19416212612062864,\n",
       " 0.6621982358277411,\n",
       " 0.2095174372040183,\n",
       " 0.20725490372679303,\n",
       " 0.3952982337025757,\n",
       " 0.2979200926096726,\n",
       " 0.27308751804123094,\n",
       " 0.5678207373941707,\n",
       " 0.5808270018550368,\n",
       " 0.22893115561479035,\n",
       " 0.49013711403443005,\n",
       " 0.8095540043462434,\n",
       " 0.3229258300281849,\n",
       " 0.18643243104389876,\n",
       " 0.3398752947883525,\n",
       " 0.30876330219483406,\n",
       " 0.5592917042967762,\n",
       " 0.4386826835126856,\n",
       " 0.3842765022596829,\n",
       " 0.7107024819723238,\n",
       " 0.20553143284318928,\n",
       " 0.44219491017668416,\n",
       " 0.4472597812567321,\n",
       " 0.5033122078166482,\n",
       " 0.4935822090913499,\n",
       " 0.30343328052153995,\n",
       " ...]"
      ]
     },
     "execution_count": 142,
     "metadata": {},
     "output_type": "execute_result"
    }
   ],
   "source": [
    "\n",
    "alfa_2"
   ]
  },
  {
   "cell_type": "code",
   "execution_count": 144,
   "metadata": {},
   "outputs": [],
   "source": [
    "# final_submissio\n",
    "final_prediction = pd.DataFrame()\n",
    "final_prediction['respondent_id'] = data_test['respondent_id']\n",
    "final_prediction['h1n1_vaccine'] = alfa_1\n",
    "final_prediction['seasonal_vaccine'] = alfa_2\n",
    "final_prediction.to_csv(\"final_prediction.csv\")"
   ]
  },
  {
   "cell_type": "code",
   "execution_count": 143,
   "metadata": {},
   "outputs": [
    {
     "data": {
      "text/plain": [
       "11738"
      ]
     },
     "execution_count": 143,
     "metadata": {},
     "output_type": "execute_result"
    }
   ],
   "source": [
    "len(alfa_2)"
   ]
  },
  {
   "cell_type": "markdown",
   "metadata": {},
   "source": [
    "<h1> prediction </h1>"
   ]
  },
  {
   "cell_type": "code",
   "execution_count": 70,
   "metadata": {},
   "outputs": [
    {
     "data": {
      "text/html": [
       "<div>\n",
       "<style scoped>\n",
       "    .dataframe tbody tr th:only-of-type {\n",
       "        vertical-align: middle;\n",
       "    }\n",
       "\n",
       "    .dataframe tbody tr th {\n",
       "        vertical-align: top;\n",
       "    }\n",
       "\n",
       "    .dataframe thead th {\n",
       "        text-align: right;\n",
       "    }\n",
       "</style>\n",
       "<table border=\"1\" class=\"dataframe\">\n",
       "  <thead>\n",
       "    <tr style=\"text-align: right;\">\n",
       "      <th></th>\n",
       "      <th>Unnamed: 0</th>\n",
       "      <th>respondent_id</th>\n",
       "      <th>h1n1_concern</th>\n",
       "      <th>h1n1_knowledge</th>\n",
       "      <th>behavioral_antiviral_meds</th>\n",
       "      <th>behavioral_avoidance</th>\n",
       "      <th>behavioral_face_mask</th>\n",
       "      <th>behavioral_wash_hands</th>\n",
       "      <th>behavioral_large_gatherings</th>\n",
       "      <th>behavioral_outside_home</th>\n",
       "      <th>...</th>\n",
       "      <th>sex</th>\n",
       "      <th>income_poverty</th>\n",
       "      <th>marital_status</th>\n",
       "      <th>rent_or_own</th>\n",
       "      <th>hhs_geo_region</th>\n",
       "      <th>census_msa</th>\n",
       "      <th>household_adults</th>\n",
       "      <th>household_children</th>\n",
       "      <th>employment_industry</th>\n",
       "      <th>employment_occupation</th>\n",
       "    </tr>\n",
       "  </thead>\n",
       "  <tbody>\n",
       "    <tr>\n",
       "      <th>0</th>\n",
       "      <td>0</td>\n",
       "      <td>26707</td>\n",
       "      <td>2.0</td>\n",
       "      <td>2.0</td>\n",
       "      <td>0.0</td>\n",
       "      <td>1.0</td>\n",
       "      <td>0.0</td>\n",
       "      <td>1.0</td>\n",
       "      <td>1.0</td>\n",
       "      <td>0.0</td>\n",
       "      <td>...</td>\n",
       "      <td>0</td>\n",
       "      <td>2</td>\n",
       "      <td>0</td>\n",
       "      <td>0</td>\n",
       "      <td>6</td>\n",
       "      <td>0</td>\n",
       "      <td>1.0</td>\n",
       "      <td>0.0</td>\n",
       "      <td>18.0</td>\n",
       "      <td>14.0</td>\n",
       "    </tr>\n",
       "    <tr>\n",
       "      <th>1</th>\n",
       "      <td>1</td>\n",
       "      <td>26708</td>\n",
       "      <td>1.0</td>\n",
       "      <td>1.0</td>\n",
       "      <td>0.0</td>\n",
       "      <td>0.0</td>\n",
       "      <td>0.0</td>\n",
       "      <td>0.0</td>\n",
       "      <td>0.0</td>\n",
       "      <td>0.0</td>\n",
       "      <td>...</td>\n",
       "      <td>1</td>\n",
       "      <td>0</td>\n",
       "      <td>0</td>\n",
       "      <td>0</td>\n",
       "      <td>0</td>\n",
       "      <td>2</td>\n",
       "      <td>3.0</td>\n",
       "      <td>0.0</td>\n",
       "      <td>18.0</td>\n",
       "      <td>4.0</td>\n",
       "    </tr>\n",
       "    <tr>\n",
       "      <th>2</th>\n",
       "      <td>2</td>\n",
       "      <td>26709</td>\n",
       "      <td>2.0</td>\n",
       "      <td>2.0</td>\n",
       "      <td>0.0</td>\n",
       "      <td>0.0</td>\n",
       "      <td>1.0</td>\n",
       "      <td>1.0</td>\n",
       "      <td>1.0</td>\n",
       "      <td>1.0</td>\n",
       "      <td>...</td>\n",
       "      <td>1</td>\n",
       "      <td>2</td>\n",
       "      <td>1</td>\n",
       "      <td>1</td>\n",
       "      <td>8</td>\n",
       "      <td>2</td>\n",
       "      <td>1.0</td>\n",
       "      <td>0.0</td>\n",
       "      <td>7.0</td>\n",
       "      <td>19.0</td>\n",
       "    </tr>\n",
       "    <tr>\n",
       "      <th>3</th>\n",
       "      <td>4</td>\n",
       "      <td>26711</td>\n",
       "      <td>3.0</td>\n",
       "      <td>1.0</td>\n",
       "      <td>1.0</td>\n",
       "      <td>1.0</td>\n",
       "      <td>0.0</td>\n",
       "      <td>1.0</td>\n",
       "      <td>1.0</td>\n",
       "      <td>1.0</td>\n",
       "      <td>...</td>\n",
       "      <td>0</td>\n",
       "      <td>1</td>\n",
       "      <td>0</td>\n",
       "      <td>1</td>\n",
       "      <td>3</td>\n",
       "      <td>2</td>\n",
       "      <td>0.0</td>\n",
       "      <td>1.0</td>\n",
       "      <td>8.0</td>\n",
       "      <td>8.0</td>\n",
       "    </tr>\n",
       "    <tr>\n",
       "      <th>4</th>\n",
       "      <td>5</td>\n",
       "      <td>26712</td>\n",
       "      <td>2.0</td>\n",
       "      <td>2.0</td>\n",
       "      <td>0.0</td>\n",
       "      <td>1.0</td>\n",
       "      <td>0.0</td>\n",
       "      <td>1.0</td>\n",
       "      <td>1.0</td>\n",
       "      <td>0.0</td>\n",
       "      <td>...</td>\n",
       "      <td>0</td>\n",
       "      <td>2</td>\n",
       "      <td>0</td>\n",
       "      <td>1</td>\n",
       "      <td>6</td>\n",
       "      <td>1</td>\n",
       "      <td>0.0</td>\n",
       "      <td>2.0</td>\n",
       "      <td>8.0</td>\n",
       "      <td>11.0</td>\n",
       "    </tr>\n",
       "    <tr>\n",
       "      <th>...</th>\n",
       "      <td>...</td>\n",
       "      <td>...</td>\n",
       "      <td>...</td>\n",
       "      <td>...</td>\n",
       "      <td>...</td>\n",
       "      <td>...</td>\n",
       "      <td>...</td>\n",
       "      <td>...</td>\n",
       "      <td>...</td>\n",
       "      <td>...</td>\n",
       "      <td>...</td>\n",
       "      <td>...</td>\n",
       "      <td>...</td>\n",
       "      <td>...</td>\n",
       "      <td>...</td>\n",
       "      <td>...</td>\n",
       "      <td>...</td>\n",
       "      <td>...</td>\n",
       "      <td>...</td>\n",
       "      <td>...</td>\n",
       "      <td>...</td>\n",
       "    </tr>\n",
       "    <tr>\n",
       "      <th>11733</th>\n",
       "      <td>26698</td>\n",
       "      <td>53405</td>\n",
       "      <td>2.0</td>\n",
       "      <td>1.0</td>\n",
       "      <td>0.0</td>\n",
       "      <td>1.0</td>\n",
       "      <td>0.0</td>\n",
       "      <td>1.0</td>\n",
       "      <td>1.0</td>\n",
       "      <td>1.0</td>\n",
       "      <td>...</td>\n",
       "      <td>0</td>\n",
       "      <td>2</td>\n",
       "      <td>1</td>\n",
       "      <td>1</td>\n",
       "      <td>3</td>\n",
       "      <td>0</td>\n",
       "      <td>1.0</td>\n",
       "      <td>0.0</td>\n",
       "      <td>10.0</td>\n",
       "      <td>14.0</td>\n",
       "    </tr>\n",
       "    <tr>\n",
       "      <th>11734</th>\n",
       "      <td>26700</td>\n",
       "      <td>53407</td>\n",
       "      <td>1.0</td>\n",
       "      <td>1.0</td>\n",
       "      <td>0.0</td>\n",
       "      <td>1.0</td>\n",
       "      <td>0.0</td>\n",
       "      <td>0.0</td>\n",
       "      <td>0.0</td>\n",
       "      <td>0.0</td>\n",
       "      <td>...</td>\n",
       "      <td>1</td>\n",
       "      <td>1</td>\n",
       "      <td>1</td>\n",
       "      <td>1</td>\n",
       "      <td>1</td>\n",
       "      <td>0</td>\n",
       "      <td>3.0</td>\n",
       "      <td>1.0</td>\n",
       "      <td>14.0</td>\n",
       "      <td>14.0</td>\n",
       "    </tr>\n",
       "    <tr>\n",
       "      <th>11735</th>\n",
       "      <td>26701</td>\n",
       "      <td>53408</td>\n",
       "      <td>1.0</td>\n",
       "      <td>1.0</td>\n",
       "      <td>1.0</td>\n",
       "      <td>1.0</td>\n",
       "      <td>0.0</td>\n",
       "      <td>1.0</td>\n",
       "      <td>1.0</td>\n",
       "      <td>1.0</td>\n",
       "      <td>...</td>\n",
       "      <td>0</td>\n",
       "      <td>0</td>\n",
       "      <td>0</td>\n",
       "      <td>1</td>\n",
       "      <td>4</td>\n",
       "      <td>2</td>\n",
       "      <td>0.0</td>\n",
       "      <td>3.0</td>\n",
       "      <td>8.0</td>\n",
       "      <td>12.0</td>\n",
       "    </tr>\n",
       "    <tr>\n",
       "      <th>11736</th>\n",
       "      <td>26702</td>\n",
       "      <td>53409</td>\n",
       "      <td>1.0</td>\n",
       "      <td>1.0</td>\n",
       "      <td>0.0</td>\n",
       "      <td>1.0</td>\n",
       "      <td>1.0</td>\n",
       "      <td>1.0</td>\n",
       "      <td>1.0</td>\n",
       "      <td>1.0</td>\n",
       "      <td>...</td>\n",
       "      <td>1</td>\n",
       "      <td>1</td>\n",
       "      <td>1</td>\n",
       "      <td>1</td>\n",
       "      <td>1</td>\n",
       "      <td>0</td>\n",
       "      <td>2.0</td>\n",
       "      <td>0.0</td>\n",
       "      <td>4.0</td>\n",
       "      <td>1.0</td>\n",
       "    </tr>\n",
       "    <tr>\n",
       "      <th>11737</th>\n",
       "      <td>26704</td>\n",
       "      <td>53411</td>\n",
       "      <td>3.0</td>\n",
       "      <td>1.0</td>\n",
       "      <td>0.0</td>\n",
       "      <td>1.0</td>\n",
       "      <td>0.0</td>\n",
       "      <td>1.0</td>\n",
       "      <td>1.0</td>\n",
       "      <td>1.0</td>\n",
       "      <td>...</td>\n",
       "      <td>1</td>\n",
       "      <td>0</td>\n",
       "      <td>1</td>\n",
       "      <td>0</td>\n",
       "      <td>1</td>\n",
       "      <td>2</td>\n",
       "      <td>1.0</td>\n",
       "      <td>3.0</td>\n",
       "      <td>8.0</td>\n",
       "      <td>3.0</td>\n",
       "    </tr>\n",
       "  </tbody>\n",
       "</table>\n",
       "<p>11738 rows × 27 columns</p>\n",
       "</div>"
      ],
      "text/plain": [
       "       Unnamed: 0  respondent_id  h1n1_concern  h1n1_knowledge  \\\n",
       "0               0          26707           2.0             2.0   \n",
       "1               1          26708           1.0             1.0   \n",
       "2               2          26709           2.0             2.0   \n",
       "3               4          26711           3.0             1.0   \n",
       "4               5          26712           2.0             2.0   \n",
       "...           ...            ...           ...             ...   \n",
       "11733       26698          53405           2.0             1.0   \n",
       "11734       26700          53407           1.0             1.0   \n",
       "11735       26701          53408           1.0             1.0   \n",
       "11736       26702          53409           1.0             1.0   \n",
       "11737       26704          53411           3.0             1.0   \n",
       "\n",
       "       behavioral_antiviral_meds  behavioral_avoidance  behavioral_face_mask  \\\n",
       "0                            0.0                   1.0                   0.0   \n",
       "1                            0.0                   0.0                   0.0   \n",
       "2                            0.0                   0.0                   1.0   \n",
       "3                            1.0                   1.0                   0.0   \n",
       "4                            0.0                   1.0                   0.0   \n",
       "...                          ...                   ...                   ...   \n",
       "11733                        0.0                   1.0                   0.0   \n",
       "11734                        0.0                   1.0                   0.0   \n",
       "11735                        1.0                   1.0                   0.0   \n",
       "11736                        0.0                   1.0                   1.0   \n",
       "11737                        0.0                   1.0                   0.0   \n",
       "\n",
       "       behavioral_wash_hands  behavioral_large_gatherings  \\\n",
       "0                        1.0                          1.0   \n",
       "1                        0.0                          0.0   \n",
       "2                        1.0                          1.0   \n",
       "3                        1.0                          1.0   \n",
       "4                        1.0                          1.0   \n",
       "...                      ...                          ...   \n",
       "11733                    1.0                          1.0   \n",
       "11734                    0.0                          0.0   \n",
       "11735                    1.0                          1.0   \n",
       "11736                    1.0                          1.0   \n",
       "11737                    1.0                          1.0   \n",
       "\n",
       "       behavioral_outside_home  ...  sex  income_poverty  marital_status  \\\n",
       "0                          0.0  ...    0               2               0   \n",
       "1                          0.0  ...    1               0               0   \n",
       "2                          1.0  ...    1               2               1   \n",
       "3                          1.0  ...    0               1               0   \n",
       "4                          0.0  ...    0               2               0   \n",
       "...                        ...  ...  ...             ...             ...   \n",
       "11733                      1.0  ...    0               2               1   \n",
       "11734                      0.0  ...    1               1               1   \n",
       "11735                      1.0  ...    0               0               0   \n",
       "11736                      1.0  ...    1               1               1   \n",
       "11737                      1.0  ...    1               0               1   \n",
       "\n",
       "       rent_or_own  hhs_geo_region  census_msa  household_adults  \\\n",
       "0                0               6           0               1.0   \n",
       "1                0               0           2               3.0   \n",
       "2                1               8           2               1.0   \n",
       "3                1               3           2               0.0   \n",
       "4                1               6           1               0.0   \n",
       "...            ...             ...         ...               ...   \n",
       "11733            1               3           0               1.0   \n",
       "11734            1               1           0               3.0   \n",
       "11735            1               4           2               0.0   \n",
       "11736            1               1           0               2.0   \n",
       "11737            0               1           2               1.0   \n",
       "\n",
       "       household_children  employment_industry  employment_occupation  \n",
       "0                     0.0                 18.0                   14.0  \n",
       "1                     0.0                 18.0                    4.0  \n",
       "2                     0.0                  7.0                   19.0  \n",
       "3                     1.0                  8.0                    8.0  \n",
       "4                     2.0                  8.0                   11.0  \n",
       "...                   ...                  ...                    ...  \n",
       "11733                 0.0                 10.0                   14.0  \n",
       "11734                 1.0                 14.0                   14.0  \n",
       "11735                 3.0                  8.0                   12.0  \n",
       "11736                 0.0                  4.0                    1.0  \n",
       "11737                 3.0                  8.0                    3.0  \n",
       "\n",
       "[11738 rows x 27 columns]"
      ]
     },
     "execution_count": 70,
     "metadata": {},
     "output_type": "execute_result"
    }
   ],
   "source": [
    "data_test = pd.read_csv(\"test_data.csv\")\n",
    "data_test"
   ]
  }
 ],
 "metadata": {
  "kernelspec": {
   "display_name": "Python 3",
   "language": "python",
   "name": "python3"
  },
  "language_info": {
   "codemirror_mode": {
    "name": "ipython",
    "version": 3
   },
   "file_extension": ".py",
   "mimetype": "text/x-python",
   "name": "python",
   "nbconvert_exporter": "python",
   "pygments_lexer": "ipython3",
   "version": "3.10.9"
  }
 },
 "nbformat": 4,
 "nbformat_minor": 2
}
